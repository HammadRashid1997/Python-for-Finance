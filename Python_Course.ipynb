{
  "nbformat": 4,
  "nbformat_minor": 0,
  "metadata": {
    "colab": {
      "provenance": [],
      "mount_file_id": "1-50u54-n15s6D3nXAB3I6YQ5LS-zBBCQ",
      "authorship_tag": "ABX9TyPYgcj9c2UsN5qBcDi+y32z",
      "include_colab_link": true
    },
    "kernelspec": {
      "name": "python3",
      "display_name": "Python 3"
    },
    "language_info": {
      "name": "python"
    }
  },
  "cells": [
    {
      "cell_type": "markdown",
      "metadata": {
        "id": "view-in-github",
        "colab_type": "text"
      },
      "source": [
        "<a href=\"https://colab.research.google.com/github/Hammad1007/Python-for-Finance/blob/Code/Python_Course.ipynb\" target=\"_parent\"><img src=\"https://colab.research.google.com/assets/colab-badge.svg\" alt=\"Open In Colab\"/></a>"
      ]
    },
    {
      "cell_type": "markdown",
      "source": [
        "# **Hands on Python in Finance**\n",
        "\n",
        "This course provides a comprehensive exploration of the intersection between finance and computer science, with a specific focus on leveraging Python for financial analysis and applications.\n",
        "\n",
        "Throughout the course, practical examples are presented, all of which are derived from an online educational platform called Mind Luster. If you are interested, you can access the course through this [Hands on Python in Finance](https://https://www.mindluster.com/certificate/7505).\n",
        "\n",
        "It's important to note that the numerical values used in the course are arbitrary and can be substituted with any other values as per your preference. The values presented were originally utilized by the course instructor for illustrative purposes, but you are free to replace them with your own data for experimentation and learning."
      ],
      "metadata": {
        "id": "gYU_0FGuwa7l"
      }
    },
    {
      "cell_type": "markdown",
      "source": [
        "# **Lecture 1**\n",
        "## **Numpy Library in Python**"
      ],
      "metadata": {
        "id": "P7c0cxlQA1Eh"
      }
    },
    {
      "cell_type": "code",
      "execution_count": null,
      "metadata": {
        "id": "deO9JhXmuVuN"
      },
      "outputs": [],
      "source": [
        "# By convention, we import numpy in our program as np\n",
        "import numpy as np"
      ]
    },
    {
      "cell_type": "code",
      "source": [
        "# A one dimensional array\n",
        "arr_1d = np.array([1, 2, 3, 4, 5, 6, 7, 8, 9])\n",
        "arr_1d"
      ],
      "metadata": {
        "colab": {
          "base_uri": "https://localhost:8080/"
        },
        "id": "lu4oGRgRBHQf",
        "outputId": "3d47698a-557c-4665-8ad1-dc316663471c"
      },
      "execution_count": null,
      "outputs": [
        {
          "output_type": "execute_result",
          "data": {
            "text/plain": [
              "array([1, 2, 3, 4, 5, 6, 7, 8, 9])"
            ]
          },
          "metadata": {},
          "execution_count": 3
        }
      ]
    },
    {
      "cell_type": "code",
      "source": [
        "# A two dimensional array\n",
        "arr_2d = np.array([[1, 2, 3], [4, 5, 6]])\n",
        "arr_2d"
      ],
      "metadata": {
        "colab": {
          "base_uri": "https://localhost:8080/"
        },
        "id": "5A_Tr7o8IOXn",
        "outputId": "3338b8f4-3a0a-4392-f91d-54cf98003e80"
      },
      "execution_count": null,
      "outputs": [
        {
          "output_type": "execute_result",
          "data": {
            "text/plain": [
              "array([[1, 2, 3],\n",
              "       [4, 5, 6]])"
            ]
          },
          "metadata": {},
          "execution_count": 5
        }
      ]
    },
    {
      "cell_type": "code",
      "source": [
        "# Print the dimensions of the array\n",
        "print(\"The dimensions of 1d array are:\", np.ndim(arr_1d))\n",
        "print(\"The dimensions of 2d array are:\", np.ndim(arr_2d))"
      ],
      "metadata": {
        "colab": {
          "base_uri": "https://localhost:8080/"
        },
        "id": "GO0sI4h9Ie9v",
        "outputId": "44e39a39-7b3c-4663-dd5c-896f5a366da2"
      },
      "execution_count": null,
      "outputs": [
        {
          "output_type": "stream",
          "name": "stdout",
          "text": [
            "The dimensions of 1d array are: 1\n",
            "The dimensions of 2d array are: 2\n"
          ]
        }
      ]
    },
    {
      "cell_type": "code",
      "source": [
        "# Size of the arrays\n",
        "print(\"The size of 1d array is:\", np.size(arr_1d))\n",
        "print(\"The size of 2d array is:\", np.size(arr_2d))"
      ],
      "metadata": {
        "colab": {
          "base_uri": "https://localhost:8080/"
        },
        "id": "CNBtw_C9Iyk-",
        "outputId": "d472a422-98d9-41f2-909c-4d7315d42364"
      },
      "execution_count": null,
      "outputs": [
        {
          "output_type": "stream",
          "name": "stdout",
          "text": [
            "The size of 1d array is: 9\n",
            "The size of 2d array is: 6\n"
          ]
        }
      ]
    },
    {
      "cell_type": "code",
      "source": [
        "# Shape of arrays\n",
        "print(\"Shape of 1d array:\", np.shape(arr_1d))\n",
        "print(\"Shape of 2d array:\", np.shape(arr_2d))"
      ],
      "metadata": {
        "colab": {
          "base_uri": "https://localhost:8080/"
        },
        "id": "_VWDOrpJI_e5",
        "outputId": "c92a2ad4-77f7-483e-aaf0-cfd11860e949"
      },
      "execution_count": null,
      "outputs": [
        {
          "output_type": "stream",
          "name": "stdout",
          "text": [
            "Shape of 1d array: (9,)\n",
            "Shape of 2d array: (2, 3)\n"
          ]
        }
      ]
    },
    {
      "cell_type": "code",
      "source": [
        "# Generating an array with sequential data in it\n",
        "np_range = np.array(range(15))\n",
        "np_arrange = np.array(np.arange(15))\n",
        "print(np_range)\n",
        "print(np_arrange)"
      ],
      "metadata": {
        "colab": {
          "base_uri": "https://localhost:8080/"
        },
        "id": "sFfFbWBfJOVn",
        "outputId": "e1983aba-77fb-44b3-aa0b-6cebff09d3bf"
      },
      "execution_count": null,
      "outputs": [
        {
          "output_type": "stream",
          "name": "stdout",
          "text": [
            "[ 0  1  2  3  4  5  6  7  8  9 10 11 12 13 14]\n",
            "[ 0  1  2  3  4  5  6  7  8  9 10 11 12 13 14]\n"
          ]
        }
      ]
    },
    {
      "cell_type": "code",
      "source": [
        "# Determine the data type\n",
        "np_arrange.dtype"
      ],
      "metadata": {
        "colab": {
          "base_uri": "https://localhost:8080/"
        },
        "id": "Mi7vOKRVJuX5",
        "outputId": "e73f82a4-5b24-4502-b27d-6943e3ed9c20"
      },
      "execution_count": null,
      "outputs": [
        {
          "output_type": "execute_result",
          "data": {
            "text/plain": [
              "dtype('int64')"
            ]
          },
          "metadata": {},
          "execution_count": 15
        }
      ]
    },
    {
      "cell_type": "code",
      "source": [
        "# Recasting datatype\n",
        "np_arrange = np.array(np_arrange, dtype = \"float64\")\n",
        "np_arrange"
      ],
      "metadata": {
        "colab": {
          "base_uri": "https://localhost:8080/"
        },
        "id": "6Lu6WZ3sJ3OI",
        "outputId": "2b9d9073-732b-4d06-cb38-5e112ac8eafa"
      },
      "execution_count": null,
      "outputs": [
        {
          "output_type": "execute_result",
          "data": {
            "text/plain": [
              "array([ 0.,  1.,  2.,  3.,  4.,  5.,  6.,  7.,  8.,  9., 10., 11., 12.,\n",
              "       13., 14.])"
            ]
          },
          "metadata": {},
          "execution_count": 18
        }
      ]
    },
    {
      "cell_type": "code",
      "source": [
        "# Reshape the data\n",
        "arr_temp = np.arange(15).reshape(3, 5)\n",
        "arr_temp"
      ],
      "metadata": {
        "colab": {
          "base_uri": "https://localhost:8080/"
        },
        "id": "q6YoDt3mKMlG",
        "outputId": "5b6888a1-f59d-44b9-e1c2-f298d6de7559"
      },
      "execution_count": null,
      "outputs": [
        {
          "output_type": "execute_result",
          "data": {
            "text/plain": [
              "array([[ 0,  1,  2,  3,  4],\n",
              "       [ 5,  6,  7,  8,  9],\n",
              "       [10, 11, 12, 13, 14]])"
            ]
          },
          "metadata": {},
          "execution_count": 19
        }
      ]
    },
    {
      "cell_type": "code",
      "source": [
        "# Transpose the array\n",
        "arr_temp.T"
      ],
      "metadata": {
        "colab": {
          "base_uri": "https://localhost:8080/"
        },
        "id": "FewM1BG9KjOT",
        "outputId": "48d5cbfe-51fa-4162-cb5e-16f1e6380c41"
      },
      "execution_count": null,
      "outputs": [
        {
          "output_type": "execute_result",
          "data": {
            "text/plain": [
              "array([[ 0,  5, 10],\n",
              "       [ 1,  6, 11],\n",
              "       [ 2,  7, 12],\n",
              "       [ 3,  8, 13],\n",
              "       [ 4,  9, 14]])"
            ]
          },
          "metadata": {},
          "execution_count": 20
        }
      ]
    },
    {
      "cell_type": "code",
      "source": [
        "# Assigning values\n",
        "arr_temp[1,1] = 100\n",
        "arr_temp"
      ],
      "metadata": {
        "colab": {
          "base_uri": "https://localhost:8080/"
        },
        "id": "V8uiSp2hKr3V",
        "outputId": "9b62ec1f-56bc-4e8c-ebae-acf642e9c35b"
      },
      "execution_count": null,
      "outputs": [
        {
          "output_type": "execute_result",
          "data": {
            "text/plain": [
              "array([[  0,   1,   2,   3,   4],\n",
              "       [  5, 100,   7,   8,   9],\n",
              "       [ 10,  11,  12,  13,  14]])"
            ]
          },
          "metadata": {},
          "execution_count": 23
        }
      ]
    },
    {
      "cell_type": "code",
      "source": [
        "# Subsetting data\n",
        "arr_temp[::3]"
      ],
      "metadata": {
        "colab": {
          "base_uri": "https://localhost:8080/"
        },
        "id": "zxuZf6rBK_o4",
        "outputId": "6c0e037e-89cf-4cc4-8799-aff0b5a9727e"
      },
      "execution_count": null,
      "outputs": [
        {
          "output_type": "execute_result",
          "data": {
            "text/plain": [
              "array([[0, 1, 2, 3, 4]])"
            ]
          },
          "metadata": {},
          "execution_count": 29
        }
      ]
    },
    {
      "cell_type": "markdown",
      "source": [
        "# **Lecture 2**\n",
        "## **Present Value**"
      ],
      "metadata": {
        "id": "aKfz0FnoOGUW"
      }
    },
    {
      "cell_type": "code",
      "source": [
        "import matplotlib.pyplot as plt\n",
        "import numpy as np\n",
        "import pandas as pd\n",
        "%matplotlib inline"
      ],
      "metadata": {
        "id": "ZmojJo-1OV9W"
      },
      "execution_count": null,
      "outputs": []
    },
    {
      "cell_type": "code",
      "source": [
        "# Basic Example to get you started\n",
        "futureValue = 50000   # in dollars\n",
        "rate = 0.05\n",
        "time = 1              # in years\n",
        "presentValue = futureValue / ((1 + rate)**time)\n",
        "print(round(presentValue, 2))"
      ],
      "metadata": {
        "colab": {
          "base_uri": "https://localhost:8080/"
        },
        "id": "ICA1DlTpOmX4",
        "outputId": "24fd526e-42f3-4a5f-8a3c-94768fb33634"
      },
      "execution_count": null,
      "outputs": [
        {
          "output_type": "stream",
          "name": "stdout",
          "text": [
            "47619.05\n"
          ]
        }
      ]
    },
    {
      "cell_type": "code",
      "source": [
        "# By making a function for the above\n",
        "def presentValue(futureValue, rate, time):\n",
        "  return round(futureValue / ((1 + rate)**time), 2)\n",
        "\n",
        "# Now call the function\n",
        "time = 5    # assume time is now 5 years to get to $50000\n",
        "presentValue(futureValue, rate, time)"
      ],
      "metadata": {
        "colab": {
          "base_uri": "https://localhost:8080/"
        },
        "id": "dAeRNzQ8PMZd",
        "outputId": "9fc1f63c-68c1-4fa0-8be9-c5deb4087fa5"
      },
      "execution_count": null,
      "outputs": [
        {
          "output_type": "execute_result",
          "data": {
            "text/plain": [
              "39176.31"
            ]
          },
          "metadata": {},
          "execution_count": 32
        }
      ]
    },
    {
      "cell_type": "code",
      "source": [
        "# Another example, winning a lottery\n",
        "cashFlow = np.ones(20) * 50000\n",
        "size = cashFlow.size\n",
        "for year in range(size):\n",
        "  cashFlow[year] = round(cashFlow[year] / (1 + rate) ** year, 1)\n",
        "\n",
        "# Print the arryay\n",
        "cashFlow"
      ],
      "metadata": {
        "colab": {
          "base_uri": "https://localhost:8080/"
        },
        "id": "a4loYY7qPobb",
        "outputId": "5eab12ee-d44e-4577-fc3b-55bfae486dd6"
      },
      "execution_count": null,
      "outputs": [
        {
          "output_type": "execute_result",
          "data": {
            "text/plain": [
              "array([50000. , 47619. , 45351.5, 43191.9, 41135.1, 39176.3, 37310.8,\n",
              "       35534.1, 33842. , 32230.4, 30695.7, 29234. , 27841.9, 26516.1,\n",
              "       25253.4, 24050.9, 22905.6, 21814.8, 20776. , 19786.7])"
            ]
          },
          "metadata": {},
          "execution_count": 39
        }
      ]
    },
    {
      "cell_type": "code",
      "source": [
        "plt.plot(cashFlow)\n",
        "plt.title(\"Money vs Time\")\n",
        "plt.grid(linestyle = \"-\")\n",
        "plt.xticks([0, 5, 10, 15, 20])"
      ],
      "metadata": {
        "colab": {
          "base_uri": "https://localhost:8080/",
          "height": 631
        },
        "id": "IhkbzQPpQ9_W",
        "outputId": "5c778210-f312-4b37-b4d7-42f813638181"
      },
      "execution_count": null,
      "outputs": [
        {
          "output_type": "execute_result",
          "data": {
            "text/plain": [
              "([<matplotlib.axis.XTick at 0x7d537667ff40>,\n",
              "  <matplotlib.axis.XTick at 0x7d537667ff10>,\n",
              "  <matplotlib.axis.XTick at 0x7d537667fe20>,\n",
              "  <matplotlib.axis.XTick at 0x7d537646c4c0>,\n",
              "  <matplotlib.axis.XTick at 0x7d537646cca0>],\n",
              " [Text(0, 0, '0'),\n",
              "  Text(5, 0, '5'),\n",
              "  Text(10, 0, '10'),\n",
              "  Text(15, 0, '15'),\n",
              "  Text(20, 0, '20')])"
            ]
          },
          "metadata": {},
          "execution_count": 46
        },
        {
          "output_type": "display_data",
          "data": {
            "text/plain": [
              "<Figure size 640x480 with 1 Axes>"
            ],
            "image/png": "[encoded data removed]"
          },
          "metadata": {}
        }
      ]
    },
    {
      "cell_type": "code",
      "source": [
        "# Sums the values in cashFlow array to keep in record the values wew get over the time\n",
        "sum(cashFlow)"
      ],
      "metadata": {
        "colab": {
          "base_uri": "https://localhost:8080/"
        },
        "id": "hq0_hi74RQ8O",
        "outputId": "eb18c2d4-b87a-47e4-e0bc-cb30cce0d9e4"
      },
      "execution_count": null,
      "outputs": [
        {
          "output_type": "execute_result",
          "data": {
            "text/plain": [
              "654266.2"
            ]
          },
          "metadata": {},
          "execution_count": 48
        }
      ]
    },
    {
      "cell_type": "markdown",
      "source": [
        "# **Lecture 3**\n",
        "## **Opening and Reading .CSV File**"
      ],
      "metadata": {
        "id": "BMI2Fm761csI"
      }
    },
    {
      "cell_type": "markdown",
      "source": [
        "### **Using with open function**"
      ],
      "metadata": {
        "id": "n1OLcvvn9BtU"
      }
    },
    {
      "cell_type": "code",
      "source": [
        "import matplotlib.pyplot as plt\n",
        "import csv\n",
        "%matplotlib inline"
      ],
      "metadata": {
        "id": "2Z5phZes1e94"
      },
      "execution_count": null,
      "outputs": []
    },
    {
      "cell_type": "code",
      "source": [
        "from google.colab import drive\n",
        "drive.mount('/content/drive')"
      ],
      "metadata": {
        "id": "riUbHupU5xM9"
      },
      "execution_count": null,
      "outputs": []
    },
    {
      "cell_type": "code",
      "source": [
        "# Specify the file path of the CSV file in your Google Drive\n",
        "file_path = '/content/drive/MyDrive/data/file.csv'\n",
        "\n",
        "# Read the CSV file using the with open() function\n",
        "data = []\n",
        "with open(file_path, 'r') as csvfile:\n",
        "    for line in csvfile:\n",
        "        data.append(line.strip().split(','))\n",
        "\n",
        "# Display the data on the screen\n",
        "for row in data:\n",
        "    print(row)"
      ],
      "metadata": {
        "colab": {
          "base_uri": "https://localhost:8080/"
        },
        "id": "e_zBPQJ06L6F",
        "outputId": "ffeb1b30-cd98-4e12-a2ca-d95e4a884674"
      },
      "execution_count": null,
      "outputs": [
        {
          "output_type": "stream",
          "name": "stdout",
          "text": [
            "['Sr.#', 'Program', 'Roll No', 'Name', 'Gender', 'Cr. Attp', 'Cr. Earn', 'Cr. Exmp', 'Cr. Comp', 'Warning', 'Status', 'Last Sem']\n",
            "['1', 'BBA', '17L-4954', 'Muhammad Ahmed Sajid', 'M', '130', '130', '0', '130', '0', 'Current', 'Spring 2023']\n",
            "['2', 'BBA', '18L-0017', 'Fatima Zeb', 'F', '130', '130', '0', '130', '0', 'Current', 'Spring 2023']\n",
            "['3', 'BBA', '18L-0056', 'Muhammad Talal Bin Yassar', 'M', '130', '130', '0', '130', '0', 'Current', 'Spring 2023']\n",
            "['4', 'BBA', '18L-0081', 'Mohsin Tariq', 'M', '130', '130', '0', '130', '0', 'Current', 'Spring 2023']\n",
            "['5', 'BBA', '18L-0141', 'Muhammad Irfan Asif', 'M', '130', '130', '0', '130', '0', 'Current', 'Spring 2023']\n",
            "['6', 'BBA', '19L-0001', 'Noor Ul Ain Dar', 'F', '130', '130', '0', '130', '0', 'Current', 'Spring 2023']\n",
            "['7', 'BBA', '19L-0006', 'Faryal Zahid', 'F', '130', '130', '0', '130', '0', 'Current', 'Spring 2023']\n",
            "['8', 'BBA', '19L-0008', 'Alishba Ahmad Chaudhry', 'F', '130', '130', '0', '130', '0', 'Current', 'Spring 2023']\n",
            "['9', 'BBA', '19L-0010', 'Momina Malik', 'F', '130', '130', '0', '130', '0', 'Current', 'Spring 2023']\n",
            "['10', 'BBA', '19L-0013', 'Rehmal Saleem', 'F', '130', '130', '0', '130', '0', 'Current', 'Spring 2023']\n",
            "['11', 'BBA', '19L-0017', 'Misha Ajmal', 'F', '130', '130', '0', '130', '0', 'Current', 'Spring 2023']\n",
            "['12', 'BBA', '19L-0018', 'Muhammad Hamza Sharif', 'M', '130', '130', '0', '130', '0', 'Current', 'Spring 2023']\n",
            "['13', 'BBA', '19L-0020', 'Laiba Noor', 'F', '130', '130', '0', '130', '0', 'Current', 'Spring 2023']\n",
            "['14', 'BBA', '19L-0021', 'Abubakar Khalid', 'M', '130', '130', '0', '130', '0', 'Current', 'Spring 2023']\n",
            "['15', 'BBA', '19L-0023', 'Talha Naeem Al Saeed', 'M', '130', '130', '0', '130', '0', 'Current', 'Spring 2023']\n",
            "['16', 'BBA', '19L-0024', 'Mohammad Asfandyar Khan', 'M', '130', '130', '0', '130', '0', 'Current', 'Spring 2023']\n",
            "['17', 'BBA', '19L-0025', 'Iqra Ahsan', 'M', '130', '130', '0', '130', '0', 'Current', 'Spring 2023']\n",
            "['18', 'BBA', '19L-0026', 'Alishbah Khan', 'F', '130', '130', '0', '130', '0', 'Current', 'Spring 2023']\n",
            "['19', 'BBA', '19L-0029', 'Muhammad Waleed Riaz', 'M', '130', '130', '0', '130', '0', 'Current', 'Spring 2023']\n",
            "['20', 'BBA', '19L-0031', 'Abdullah Tahir', 'M', '130', '130', '0', '130', '0', 'Current', 'Spring 2023']\n",
            "['21', 'BBA', '19L-0033', 'Iqra Arshad', 'F', '130', '130', '0', '130', '0', 'Current', 'Spring 2023']\n",
            "['22', 'BBA', '19L-0035', 'Abdul Hanan Farooq', 'M', '130', '130', '0', '130', '0', 'Current', 'Spring 2023']\n",
            "['23', 'BBA', '19L-0036', 'Ali Hassan', 'M', '130', '130', '0', '130', '0', 'Current', 'Spring 2023']\n",
            "['24', 'BBA', '19L-0041', 'Mehak Javed', 'F', '130', '130', '0', '130', '0', 'Current', 'Spring 2023']\n",
            "['25', 'BBA', '19L-0042', 'Fatima Ahmad', 'F', '130', '130', '0', '130', '0', 'Current', 'Spring 2023']\n",
            "['26', 'BBA', '19L-0043', 'Minahil Ahmad', 'F', '130', '130', '0', '130', '0', 'Current', 'Spring 2023']\n",
            "['27', 'BBA', '19L-0044', 'Muhammad Umair Shabbir', 'M', '130', '130', '0', '130', '0', 'Current', 'Spring 2023']\n",
            "['28', 'BBA', '19L-0046', 'Azka Farooq', 'F', '130', '130', '0', '130', '0', 'Current', 'Spring 2023']\n",
            "['29', 'BBA', '19L-0047', 'Nimra Samreen', 'F', '130', '130', '0', '130', '0', 'Current', 'Spring 2023']\n",
            "['30', 'BBA', '19L-0051', 'Mahjabeen Fatima', 'F', '130', '130', '0', '130', '0', 'Current', 'Spring 2023']\n",
            "['31', 'BBA', '19L-0055', 'Laiba Gul', 'F', '130', '130', '0', '130', '0', 'Current', 'Spring 2023']\n",
            "['32', 'BBA', '19L-0056', 'Zainab Fatima', 'F', '130', '130', '0', '130', '0', 'Current', 'Spring 2023']\n",
            "['33', 'BBA', '19L-0058', 'Moiz Nadeem Lone', 'M', '130', '130', '0', '130', '0', 'Current', 'Spring 2023']\n",
            "['34', 'BBA', '19L-0060', 'Zainab Zahid', 'F', '130', '130', '0', '130', '0', 'Current', 'Spring 2023']\n",
            "['35', 'BBA', '19L-0061', 'Kanwar Shahzaib Ali', 'M', '130', '130', '0', '130', '0', 'Current', 'Spring 2023']\n",
            "['36', 'BBA', '19L-0063', 'Saad Ali', 'M', '130', '130', '0', '130', '0', 'Current', 'Spring 2023']\n",
            "['37', 'BBA', '19L-0064', 'Alysha Ifraz', 'F', '130', '130', '0', '130', '0', 'Current', 'Spring 2023']\n",
            "['38', 'BBA', '19L-0067', 'Zohaib Ahmed', 'M', '130', '130', '0', '130', '0', 'Current', 'Spring 2023']\n",
            "['39', 'BBA', '19L-0068', 'Ahsan Saleem', 'M', '130', '130', '0', '130', '0', 'Current', 'Spring 2023']\n",
            "['40', 'BBA', '19L-0069', 'Kainat Ali', 'F', '130', '130', '0', '130', '0', 'Current', 'Spring 2023']\n",
            "['41', 'BBA', '19L-0071', 'Hassan Ijaz Butt', 'M', '130', '130', '0', '130', '0', 'Current', 'Spring 2023']\n",
            "['42', 'BBA', '19L-0072', 'Hamza Anjum Butt', 'M', '130', '130', '0', '130', '0', 'Current', 'Spring 2023']\n",
            "['43', 'BBA', '19L-0073', 'Hamna Rehman', 'F', '130', '130', '0', '130', '0', 'Current', 'Spring 2023']\n",
            "['44', 'BBA', '19L-0074', 'Hassan Ateeq', 'M', '130', '130', '0', '130', '0', 'Current', 'Spring 2023']\n",
            "['45', 'BBA', '19L-0075', 'Muhammad Taha Madni', 'M', '130', '130', '0', '130', '0', 'Current', 'Spring 2023']\n",
            "['46', 'BBA', '19L-0076', 'Muhammad Abdullah', 'M', '130', '130', '0', '130', '0', 'Current', 'Spring 2023']\n",
            "['47', 'BBA', '19L-0077', 'Fatima Amjad', 'F', '130', '130', '0', '130', '0', 'Current', 'Spring 2023']\n",
            "['48', 'BBA', '19L-0078', 'Aleeza Javed', 'F', '130', '130', '0', '130', '0', 'Current', 'Spring 2023']\n",
            "['49', 'BBA', '19L-0079', 'Laraib Nadeem', 'F', '130', '130', '0', '130', '0', 'Current', 'Spring 2023']\n",
            "['50', 'BBA', '19L-0083', 'Mahnoor Nadeem', 'F', '130', '130', '0', '130', '0', 'Current', 'Spring 2023']\n",
            "['51', 'BBA', '19L-0085', 'Bilal Ahmed Khan', 'M', '130', '130', '0', '130', '0', 'Current', 'Spring 2023']\n",
            "['52', 'BBA', '19L-0015', 'Filza Humayun', 'F', '130', '127', '0', '127', '0', 'Current', 'Spring 2023']\n",
            "['53', 'BBA', '19L-0052', 'Naila Manzoor', 'F', '130', '127', '0', '127', '0', 'Current', 'Spring 2023']\n",
            "['54', 'BBA', '19L-0054', 'Iqra', 'F', '130', '127', '0', '127', '0', 'Current', 'Spring 2023']\n",
            "['55', 'BS(AF)', '17L-4801', 'Umar Ijaz', 'M', '131', '131', '0', '131', '0', 'Current', 'Spring 2023']\n",
            "['56', 'BS(AF)', '18L-0352', 'Abdul Rauf Qureshi', 'M', '131', '131', '0', '131', '0', 'Current', 'Spring 2023']\n",
            "['57', 'BS(AF)', '18L-0384', 'Fasiha Nadeem', 'F', '131', '131', '0', '131', '0', 'Current', 'Spring 2023']\n",
            "['58', 'BS(AF)', '18L-0387', 'Ali Jibran', 'M', '131', '131', '0', '131', '0', 'Current', 'Spring 2023']\n",
            "['59', 'BS(AF)', '18L-0425', 'Haris Sami Alvi', 'M', '119', '119', '12', '131', '0', 'Current', 'Spring 2023']\n",
            "['60', 'BS(AF)', '19L-0352', 'Mishal Arif', 'F', '131', '131', '0', '131', '0', 'Current', 'Spring 2023']\n",
            "['61', 'BS(AF)', '19L-0353', 'Muhammad Ahmad', 'M', '131', '131', '0', '131', '0', 'Current', 'Spring 2023']\n",
            "['62', 'BS(AF)', '19L-0355', 'Aqsa Waqar', 'F', '131', '131', '0', '131', '0', 'Current', 'Spring 2023']\n",
            "['63', 'BS(AF)', '19L-0361', 'Moeiz Islam', 'M', '131', '131', '0', '131', '0', 'Current', 'Spring 2023']\n",
            "['64', 'BS(AF)', '19L-0367', 'Javeria Iqbal', 'F', '131', '131', '0', '131', '0', 'Current', 'Spring 2023']\n",
            "['65', 'BS(AF)', '19L-0372', 'Muhammad Talha Babar', 'M', '131', '131', '0', '131', '0', 'Current', 'Spring 2023']\n",
            "['66', 'BS(AF)', '19L-0373', 'Muhammad Talha Bin Gauhar', 'M', '131', '131', '0', '131', '0', 'Current', 'Spring 2023']\n",
            "['67', 'BS(AF)', '19L-0378', 'Muhammad Hassan', 'M', '131', '131', '0', '131', '0', 'Current', 'Spring 2023']\n",
            "['68', 'BS(AF)', '19L-0381', 'Ahmed Ali', 'M', '131', '131', '0', '131', '0', 'Current', 'Spring 2023']\n",
            "['69', 'BS(AF)', '19L-0384', 'Zainah Hasnain', 'F', '131', '131', '0', '131', '0', 'Current', 'Spring 2023']\n",
            "['70', 'BS(AF)', '19L-0394', 'Muhammad Abdul Hannan Malik', 'M', '131', '131', '0', '131', '0', 'Current', 'Spring 2023']\n",
            "['71', 'BS(AF)', '19L-0396', 'Zainab Saeed', 'F', '131', '131', '0', '131', '0', 'Current', 'Spring 2023']\n",
            "['72', 'BS(AF)', '19L-0398', 'Ashir Sajjad', 'M', '131', '131', '0', '131', '0', 'Current', 'Spring 2023']\n",
            "['73', 'BS(AF)', '19L-0399', 'Abubakar', 'M', '131', '131', '0', '131', '0', 'Current', 'Spring 2023']\n",
            "['74', 'BS(AF)', '19L-0401', 'Fiza Rauf', 'F', '131', '131', '0', '131', '0', 'Current', 'Spring 2023']\n",
            "['75', 'BS(AF)', '19L-0402', 'Abdul Hanan', 'M', '131', '131', '0', '131', '0', 'Current', 'Spring 2023']\n",
            "['76', 'BS(AF)', '19L-0413', 'Usama Imtiaz', 'M', '131', '131', '0', '131', '0', 'Current', 'Spring 2023']\n",
            "['77', 'BS(AF)', '19L-0417', 'Shahzil Tariq Nazir', 'F', '131', '131', '0', '131', '0', 'Current', 'Spring 2023']\n",
            "['78', 'BS(AF)', '19L-0418', 'Taimur Zia', 'M', '131', '131', '0', '131', '0', 'Current', 'Spring 2023']\n",
            "['79', 'BS(CS)', '17L-4331', 'Muhammad Fiaz', 'M', '130', '130', '0', '130', '0', 'Clearance', 'Fall 2021']\n",
            "['80', 'BS(CS)', '15L-4370', 'Fahad Javaid', 'M', '107', '107', '23', '130', '0', 'Clearance', 'Fall 2022']\n",
            "['81', 'BS(CS)', '17L-4213', 'Rana Muhammad Kashif', 'M', '136', '130', '0', '130', '0', 'Clearance', 'Fall 2022']\n",
            "['82', 'BS(CS)', '17L-4270', 'Hamza Nazar', 'M', '133', '130', '0', '130', '0', 'Clearance', 'Fall 2022']\n",
            "['83', 'BS(CS)', '17L-4310', 'Muhammad Ahmad', 'M', '131', '131', '0', '131', '0', 'Clearance', 'Fall 2022']\n",
            "['84', 'BS(CS)', '16L-4276', 'Abdul Rehman', 'M', '131', '130', '0', '130', '0', 'Clearance', 'Spring 2021']\n",
            "['85', 'BS(CS)', '17L-4069', 'Taha Raza Hashmi', 'M', '130', '130', '0', '130', '0', 'Clearance', 'Spring 2022']\n",
            "['86', 'BS(CS)', '16L-4344', 'Yameen Javaid', 'M', '134', '131', '0', '131', '0', 'Current', 'Spring 2023']\n",
            "['87', 'BS(CS)', '17L-4009', 'Muhammad Muneeb Ul Rehman Naeem', 'M', '131', '131', '0', '131', '0', 'Current', 'Spring 2023']\n",
            "['88', 'BS(CS)', '17L-4026', 'Salman Arshad', 'M', '131', '131', '0', '131', '0', 'Current', 'Spring 2023']\n",
            "['89', 'BS(CS)', '17L-4126', 'Ali Affan', 'M', '136', '130', '0', '130', '0', 'Current', 'Spring 2023']\n",
            "['90', 'BS(CS)', '17L-4269', 'Saad Ali', 'M', '131', '131', '0', '131', '0', 'Current', 'Spring 2023']\n",
            "['91', 'BS(CS)', '17L-4358', 'Muhammad Shehriyar', 'M', '130', '130', '0', '130', '0', 'Current', 'Spring 2023']\n",
            "['92', 'BS(CS)', '17P-6020', 'Faizan Ahmad', 'M', '130', '130', '0', '130', '0', 'Current', 'Spring 2023']\n",
            "['93', 'BS(CS)', '18L-0927', 'Rida Arshad', 'F', '130', '130', '0', '130', '0', 'Current', 'Spring 2023']\n",
            "['94', 'BS(CS)', '18L-0959', 'Sharjeel Ahmad', 'M', '130', '130', '0', '130', '0', 'Current', 'Spring 2023']\n",
            "['95', 'BS(CS)', '18L-0978', 'Muhammad Talha Farooq', 'M', '130', '130', '0', '130', '0', 'Current', 'Spring 2023']\n",
            "['96', 'BS(CS)', '18L-1033', 'Hamna Shafqaat', 'M', '130', '130', '0', '130', '0', 'Current', 'Spring 2023']\n",
            "['97', 'BS(CS)', '18L-1116', 'Sheikh Muhammad Arfeen Yousuf', 'M', '130', '130', '0', '130', '0', 'Current', 'Spring 2023']\n",
            "['98', 'BS(CS)', '18L-1190', 'Isha Amer', 'F', '133', '133', '0', '133', '0', 'Current', 'Spring 2023']\n",
            "['99', 'BS(CS)', '18L-1191', 'Muhammad Hasnat Raza Ch', 'M', '133', '130', '0', '130', '0', 'Current', 'Spring 2023']\n",
            "['100', 'BS(CS)', '18L-1202', 'Umair Mirza', 'M', '130', '130', '0', '130', '0', 'Current', 'Spring 2023']\n",
            "['101', 'BS(CS)', '18L-2137', 'Muhammad Faiq', 'M', '130', '130', '0', '130', '0', 'Current', 'Spring 2023']\n",
            "['102', 'BS(CS)', '18L-2154', 'Ahmad Ajmal', 'M', '133', '130', '0', '130', '0', 'Current', 'Spring 2023']\n",
            "['103', 'BS(CS)', '18L-2192', 'Shahzaib Kamran', 'M', '133', '130', '0', '130', '0', 'Current', 'Spring 2023']\n",
            "['104', 'BS(CS)', '18P-0050', 'Muhammad Zeeshan', 'M', '130', '130', '0', '130', '0', 'Current', 'Spring 2023']\n",
            "['105', 'BS(CS)', '18P-0106', 'Muhammad Anas Mazhar', 'M', '130', '130', '0', '130', '0', 'Current', 'Spring 2023']\n",
            "['106', 'BS(CS)', '19I-2190', 'Abdul Rehman Ghori', 'M', '130', '130', '0', '130', '0', 'Current', 'Spring 2023']\n",
            "['107', 'BS(CS)', '19L-0902', 'Ayesha Kanwal', 'F', '130', '130', '0', '130', '0', 'Current', 'Spring 2023']\n",
            "['108', 'BS(CS)', '19L-0903', 'Ayyan Babar', 'M', '130', '130', '0', '130', '0', 'Current', 'Spring 2023']\n",
            "['109', 'BS(CS)', '19L-0904', 'Syed Muhammad Salman Haider', 'M', '130', '130', '0', '130', '0', 'Current', 'Spring 2023']\n",
            "['110', 'BS(CS)', '19L-0905', 'Sammar Rizwan', 'M', '130', '130', '0', '130', '0', 'Current', 'Spring 2023']\n",
            "['111', 'BS(CS)', '19L-0906', 'Auroob Amjad', 'F', '130', '130', '0', '130', '0', 'Current', 'Spring 2023']\n",
            "['112', 'BS(CS)', '19L-0907', 'Muhammad Hamza', 'M', '130', '130', '0', '130', '0', 'Current', 'Spring 2023']\n",
            "['113', 'BS(CS)', '19L-0909', 'Syed Yousaf Qadri', 'M', '130', '130', '0', '130', '0', 'Current', 'Spring 2023']\n",
            "['114', 'BS(CS)', '19L-0910', 'Mohsin Raza', 'M', '130', '130', '0', '130', '0', 'Current', 'Spring 2023']\n",
            "['115', 'BS(CS)', '19L-0911', 'Ammar Nadeem', 'M', '130', '130', '0', '130', '0', 'Current', 'Spring 2023']\n",
            "['116', 'BS(CS)', '19L-0913', 'Muhammad Saad Tariq', 'M', '130', '130', '0', '130', '0', 'Current', 'Spring 2023']\n",
            "['117', 'BS(CS)', '19L-0914', 'Faiq Shahzad', 'M', '130', '130', '0', '130', '0', 'Current', 'Spring 2023']\n",
            "['118', 'BS(CS)', '19L-0915', 'Mahnoor Khaliq', 'F', '130', '130', '0', '130', '0', 'Current', 'Spring 2023']\n",
            "['119', 'BS(CS)', '19L-0916', 'Nabeel Ahmed', 'M', '130', '130', '0', '130', '0', 'Current', 'Spring 2023']\n",
            "['120', 'BS(CS)', '19L-0917', 'Muhammad Abdul Ali', 'M', '130', '130', '0', '130', '0', 'Current', 'Spring 2023']\n",
            "['121', 'BS(CS)', '19L-0918', 'Sweba Haq', 'F', '130', '130', '0', '130', '0', 'Current', 'Spring 2023']\n",
            "['122', 'BS(CS)', '19L-0920', 'Danyal Ahmed', 'M', '130', '130', '0', '130', '0', 'Current', 'Spring 2023']\n",
            "['123', 'BS(CS)', '19L-0921', 'Muhammad Mamoon Akhtar', 'M', '130', '130', '0', '130', '0', 'Current', 'Spring 2023']\n",
            "['124', 'BS(CS)', '19L-0925', 'Rasaal Ahmad', 'M', '130', '130', '0', '130', '0', 'Current', 'Spring 2023']\n",
            "['125', 'BS(CS)', '19L-0926', 'Mohammad Ali Aamir', 'M', '130', '130', '0', '130', '0', 'Current', 'Spring 2023']\n",
            "['126', 'BS(CS)', '19L-0927', 'Huma Karim', 'F', '130', '130', '0', '130', '0', 'Current', 'Spring 2023']\n",
            "['127', 'BS(CS)', '19L-0929', 'Zawyar Ur Rehman', 'M', '130', '130', '0', '130', '0', 'Current', 'Spring 2023']\n",
            "['128', 'BS(CS)', '19L-0931', 'Zain Ul Abidin', 'M', '130', '130', '0', '130', '0', 'Current', 'Spring 2023']\n",
            "['129', 'BS(CS)', '19L-0935', 'Muhammad Zain Ahmad Rizwan', 'M', '130', '130', '0', '130', '0', 'Current', 'Spring 2023']\n",
            "['130', 'BS(CS)', '19L-0939', 'Saqib Ali', 'M', '130', '130', '0', '130', '0', 'Current', 'Spring 2023']\n",
            "['131', 'BS(CS)', '19L-0940', 'Hassan Hadayat', 'M', '130', '130', '0', '130', '0', 'Current', 'Spring 2023']\n",
            "['132', 'BS(CS)', '19L-0944', 'Muhammad Subhan Ali', 'M', '130', '130', '0', '130', '0', 'Current', 'Spring 2023']\n",
            "['133', 'BS(CS)', '19L-0947', 'Muhammad Qasim Bhatti', 'M', '130', '130', '0', '130', '0', 'Current', 'Spring 2023']\n",
            "['134', 'BS(CS)', '19L-0948', 'Abdul Rauf Bhatti', 'M', '130', '130', '0', '130', '0', 'Current', 'Spring 2023']\n",
            "['135', 'BS(CS)', '19L-0949', 'Abdul Basit Jalil', 'M', '130', '130', '0', '130', '0', 'Current', 'Spring 2023']\n",
            "['136', 'BS(CS)', '19L-0952', 'Syed Talal Murtaza', 'M', '130', '130', '0', '130', '0', 'Current', 'Spring 2023']\n",
            "['137', 'BS(CS)', '19L-0953', 'Saif Ullah', 'M', '130', '130', '0', '130', '0', 'Current', 'Spring 2023']\n",
            "['138', 'BS(CS)', '19L-0956', 'Muhammad Abdullah', 'M', '130', '130', '0', '130', '0', 'Current', 'Spring 2023']\n",
            "['139', 'BS(CS)', '19L-0959', 'Ayila Jawad', 'F', '130', '130', '0', '130', '0', 'Current', 'Spring 2023']\n",
            "['140', 'BS(CS)', '19L-0962', 'Muhammad Junaid Afzal', 'M', '130', '130', '0', '130', '0', 'Current', 'Spring 2023']\n",
            "['141', 'BS(CS)', '19L-0966', 'Zara Babar', 'F', '130', '130', '0', '130', '0', 'Current', 'Spring 2023']\n",
            "['142', 'BS(CS)', '19L-0969', 'Muhammad Hamas', 'M', '130', '130', '0', '130', '0', 'Current', 'Spring 2023']\n",
            "['143', 'BS(CS)', '19L-0970', 'Muhammad Hassan Ayyaz', 'M', '133', '130', '0', '130', '0', 'Current', 'Spring 2023']\n",
            "['144', 'BS(CS)', '19L-0973', 'Hassaan Bin Ramzan', 'M', '130', '130', '0', '130', '0', 'Current', 'Spring 2023']\n",
            "['145', 'BS(CS)', '19L-0974', 'Rohail Asghar', 'M', '130', '130', '0', '130', '0', 'Current', 'Spring 2023']\n",
            "['146', 'BS(CS)', '19L-0975', 'Syeda Fatima Zulfiqar', 'F', '130', '130', '0', '130', '0', 'Current', 'Spring 2023']\n",
            "['147', 'BS(CS)', '19L-0980', 'Fatimah Rashid', 'F', '130', '130', '0', '130', '0', 'Current', 'Spring 2023']\n",
            "['148', 'BS(CS)', '19L-0981', 'Chaudhary Zakauddin', 'M', '130', '130', '0', '130', '0', 'Current', 'Spring 2023']\n",
            "['149', 'BS(CS)', '19L-0982', 'Laiba Abid Lodhi', 'F', '130', '130', '0', '130', '0', 'Current', 'Spring 2023']\n",
            "['150', 'BS(CS)', '19L-0983', 'Muhammad Tayyab', 'M', '130', '130', '0', '130', '0', 'Current', 'Spring 2023']\n",
            "['151', 'BS(CS)', '19L-0988', 'Hassan Naveed', 'M', '130', '130', '0', '130', '0', 'Current', 'Spring 2023']\n",
            "['152', 'BS(CS)', '19L-0989', 'Syed Hussain Abbas', 'M', '130', '130', '0', '130', '0', 'Current', 'Spring 2023']\n",
            "['153', 'BS(CS)', '19L-0996', 'Saad Nauman', 'M', '130', '130', '0', '130', '0', 'Current', 'Spring 2023']\n",
            "['154', 'BS(CS)', '19L-0997', 'Muhammad Abdullah Umer', 'M', '130', '130', '0', '130', '0', 'Current', 'Spring 2023']\n",
            "['155', 'BS(CS)', '19L-0998', 'Saif Ullah', 'M', '130', '130', '0', '130', '0', 'Current', 'Spring 2023']\n",
            "['156', 'BS(CS)', '19L-0999', 'Muhammad Usama', 'M', '130', '130', '0', '130', '0', 'Current', 'Spring 2023']\n",
            "['157', 'BS(CS)', '19L-1003', 'Saad Waseem', 'M', '130', '130', '0', '130', '0', 'Current', 'Spring 2023']\n",
            "['158', 'BS(CS)', '19L-1007', 'Muhammad Hammad Rashid', 'M', '130', '130', '0', '130', '0', 'Current', 'Spring 2023']\n",
            "['159', 'BS(CS)', '19L-1010', 'Muhammad Qureshi', 'M', '130', '130', '0', '130', '0', 'Current', 'Spring 2023']\n",
            "['160', 'BS(CS)', '19L-1011', 'Muhammad Hasaan', 'M', '130', '130', '0', '130', '0', 'Current', 'Spring 2023']\n",
            "['161', 'BS(CS)', '19L-1013', 'Hashim Tayyab Shah', 'M', '130', '130', '0', '130', '0', 'Current', 'Spring 2023']\n",
            "['162', 'BS(CS)', '19L-1015', 'Syed Muhammad Ali Raza', 'M', '130', '130', '0', '130', '0', 'Current', 'Spring 2023']\n",
            "['163', 'BS(CS)', '19L-1017', 'Faiqah Shuaib', 'F', '130', '130', '0', '130', '0', 'Current', 'Spring 2023']\n",
            "['164', 'BS(CS)', '19L-1021', 'Fazeel Khalid', 'M', '130', '130', '0', '130', '0', 'Current', 'Spring 2023']\n",
            "['165', 'BS(CS)', '19L-1024', 'Neelab Umar', 'F', '130', '130', '0', '130', '0', 'Current', 'Spring 2023']\n",
            "['166', 'BS(CS)', '19L-1025', 'Faizan Khalid', 'M', '130', '130', '0', '130', '0', 'Current', 'Spring 2023']\n",
            "['167', 'BS(CS)', '19L-1026', 'Muhammad Ali Tahir', 'M', '130', '130', '0', '130', '0', 'Current', 'Spring 2023']\n",
            "['168', 'BS(CS)', '19L-1029', 'Zarin Taufique', 'M', '130', '130', '0', '130', '0', 'Current', 'Spring 2023']\n",
            "['169', 'BS(CS)', '19L-1030', 'Taha Hassan Tariq', 'M', '130', '130', '0', '130', '0', 'Current', 'Spring 2023']\n",
            "['170', 'BS(CS)', '19L-1031', 'Dua Asghar Mughal', 'F', '130', '130', '0', '130', '0', 'Current', 'Spring 2023']\n",
            "['171', 'BS(CS)', '19L-1033', 'Muhammad Umar Khan', 'M', '130', '130', '0', '130', '0', 'Current', 'Spring 2023']\n",
            "['172', 'BS(CS)', '19L-1035', 'Zainab Fatima', 'F', '130', '130', '0', '130', '0', 'Current', 'Spring 2023']\n",
            "['173', 'BS(CS)', '19L-1036', 'Muhammad Zaigham Bin Kashif', 'M', '130', '130', '0', '130', '0', 'Current', 'Spring 2023']\n",
            "['174', 'BS(CS)', '19L-1038', 'Abdullah', 'M', '130', '130', '0', '130', '0', 'Current', 'Spring 2023']\n",
            "['175', 'BS(CS)', '19L-1039', 'Ali Zeeshan', 'M', '130', '130', '0', '130', '0', 'Current', 'Spring 2023']\n",
            "['176', 'BS(CS)', '19L-1040', 'Muhammad Ali Zaman', 'M', '130', '130', '0', '130', '0', 'Current', 'Spring 2023']\n",
            "['177', 'BS(CS)', '19L-1042', 'Ibrahim Muhammad', 'M', '130', '130', '0', '130', '0', 'Current', 'Spring 2023']\n",
            "['178', 'BS(CS)', '19L-1045', 'Umar Farooq', 'M', '130', '130', '0', '130', '0', 'Current', 'Spring 2023']\n",
            "['179', 'BS(CS)', '19L-1046', 'Rana Abdul Muneem', 'M', '130', '130', '0', '130', '0', 'Current', 'Spring 2023']\n",
            "['180', 'BS(CS)', '19L-1048', 'Mohammad Nawal Ali', 'M', '130', '130', '0', '130', '0', 'Current', 'Spring 2023']\n",
            "['181', 'BS(CS)', '19L-1049', 'Ummar Ikram', 'M', '130', '130', '0', '130', '0', 'Current', 'Spring 2023']\n",
            "['182', 'BS(CS)', '19L-1050', 'Muhammad Mustafa Khalid Malik', 'M', '130', '130', '0', '130', '0', 'Current', 'Spring 2023']\n",
            "['183', 'BS(CS)', '19L-1051', 'Muhammad Asad Imran', 'M', '130', '130', '0', '130', '0', 'Current', 'Spring 2023']\n",
            "['184', 'BS(CS)', '19L-1053', 'Ali Moosa', 'M', '130', '130', '0', '130', '0', 'Current', 'Spring 2023']\n",
            "['185', 'BS(CS)', '19L-1054', 'Muneeb Ahmad', 'M', '130', '130', '0', '130', '0', 'Current', 'Spring 2023']\n",
            "['186', 'BS(CS)', '19L-1056', 'Javeria Shahzadi', 'F', '130', '130', '0', '130', '0', 'Current', 'Spring 2023']\n",
            "['187', 'BS(CS)', '19L-1057', 'Affan Malik', 'M', '130', '130', '0', '130', '0', 'Current', 'Spring 2023']\n",
            "['188', 'BS(CS)', '19L-1058', 'Aleena Amer', 'F', '130', '130', '0', '130', '0', 'Current', 'Spring 2023']\n",
            "['189', 'BS(CS)', '19L-1060', 'Muhammad Shariq', 'M', '130', '130', '0', '130', '0', 'Current', 'Spring 2023']\n",
            "['190', 'BS(CS)', '19L-1061', 'Abdur Rehman', 'M', '130', '130', '0', '130', '0', 'Current', 'Spring 2023']\n",
            "['191', 'BS(CS)', '19L-1063', 'Ahmed Nadeem', 'M', '130', '130', '0', '130', '0', 'Current', 'Spring 2023']\n",
            "['192', 'BS(CS)', '19L-1065', 'Muhammad Yahya Khan', 'M', '130', '130', '0', '130', '0', 'Current', 'Spring 2023']\n",
            "['193', 'BS(CS)', '19L-1066', 'Sukhan Amir', 'F', '130', '130', '0', '130', '0', 'Current', 'Spring 2023']\n",
            "['194', 'BS(CS)', '19L-1067', 'Talha Bin Tahir Masud', 'M', '130', '130', '0', '130', '0', 'Current', 'Spring 2023']\n",
            "['195', 'BS(CS)', '19L-1071', 'Syed Ahmad Bin Masood', 'M', '130', '130', '0', '130', '0', 'Current', 'Spring 2023']\n",
            "['196', 'BS(CS)', '19L-1072', 'Bilal Shahid', 'M', '130', '130', '0', '130', '0', 'Current', 'Spring 2023']\n",
            "['197', 'BS(CS)', '19L-1073', 'Haleema Shahid', 'F', '130', '130', '0', '130', '0', 'Current', 'Spring 2023']\n",
            "['198', 'BS(CS)', '19L-1074', 'Muhammad Faiq Ijaz Malik', 'M', '130', '130', '0', '130', '0', 'Current', 'Spring 2023']\n",
            "['199', 'BS(CS)', '19L-1075', 'Sheikh Khizar Nadeem', 'M', '130', '130', '0', '130', '0', 'Current', 'Spring 2023']\n",
            "['200', 'BS(CS)', '19L-1077', 'Hassan Saeed Wattoo', 'M', '130', '130', '0', '130', '0', 'Current', 'Spring 2023']\n",
            "['201', 'BS(CS)', '19L-1083', 'Chaudhary Hammad Javed', 'M', '130', '130', '0', '130', '0', 'Current', 'Spring 2023']\n",
            "['202', 'BS(CS)', '19L-1087', 'Mohsin Khalid', 'M', '130', '130', '0', '130', '0', 'Current', 'Spring 2023']\n",
            "['203', 'BS(CS)', '19L-1088', 'Ayesha Akram', 'F', '130', '130', '0', '130', '0', 'Current', 'Spring 2023']\n",
            "['204', 'BS(CS)', '19L-1089', 'Maha Sohail Anwer', 'F', '130', '130', '0', '130', '0', 'Current', 'Spring 2023']\n",
            "['205', 'BS(CS)', '19L-1090', 'Shehla Khalid', 'F', '130', '130', '0', '130', '0', 'Current', 'Spring 2023']\n",
            "['206', 'BS(CS)', '19L-1091', 'Abdul Raheem', 'M', '130', '130', '0', '130', '0', 'Current', 'Spring 2023']\n",
            "['207', 'BS(CS)', '19L-1095', 'Talha Ahmed', 'M', '130', '130', '0', '130', '0', 'Current', 'Spring 2023']\n",
            "['208', 'BS(CS)', '19L-1096', 'Hamza Sohail', 'M', '130', '130', '0', '130', '0', 'Current', 'Spring 2023']\n",
            "['209', 'BS(CS)', '19L-1098', 'Nabeegh Ahmed', 'M', '130', '130', '0', '130', '0', 'Current', 'Spring 2023']\n",
            "['210', 'BS(CS)', '19L-1099', 'Aliha Hussain', 'F', '130', '130', '0', '130', '0', 'Current', 'Spring 2023']\n",
            "['211', 'BS(CS)', '19L-1102', 'Hafiz Muhammad Mahir', 'M', '130', '130', '0', '130', '0', 'Current', 'Spring 2023']\n",
            "['212', 'BS(CS)', '19L-1103', 'Muhammad Talha', 'M', '130', '130', '0', '130', '0', 'Current', 'Spring 2023']\n",
            "['213', 'BS(CS)', '19L-1105', 'Muhammad Burhan', 'M', '130', '130', '0', '130', '0', 'Current', 'Spring 2023']\n",
            "['214', 'BS(CS)', '19L-1106', 'Awab Ben Rizwan', 'M', '130', '130', '0', '130', '0', 'Current', 'Spring 2023']\n",
            "['215', 'BS(CS)', '19L-1107', 'Anam Qaiser', 'F', '130', '130', '0', '130', '0', 'Current', 'Spring 2023']\n",
            "['216', 'BS(CS)', '19L-1108', 'Syeda Muskan Zehra', 'F', '130', '130', '0', '130', '0', 'Current', 'Spring 2023']\n",
            "['217', 'BS(CS)', '19L-1110', 'Muhammad Arslan Tariq', 'M', '130', '130', '0', '130', '0', 'Current', 'Spring 2023']\n",
            "['218', 'BS(CS)', '19L-1111', 'Hajra Asad', 'F', '130', '130', '0', '130', '0', 'Current', 'Spring 2023']\n",
            "['219', 'BS(CS)', '19L-1112', 'Moiz Shahid', 'M', '130', '130', '0', '130', '0', 'Current', 'Spring 2023']\n",
            "['220', 'BS(CS)', '19L-1113', 'Mahnoor Riaz', 'F', '130', '130', '0', '130', '0', 'Current', 'Spring 2023']\n",
            "['221', 'BS(CS)', '19L-1116', 'Syed Roha Shariq', 'F', '130', '130', '0', '130', '0', 'Current', 'Spring 2023']\n",
            "['222', 'BS(CS)', '19L-1117', 'Riva Nouman Khan', 'F', '130', '130', '0', '130', '0', 'Current', 'Spring 2023']\n",
            "['223', 'BS(CS)', '19L-1118', 'Muqqias Ul Akhtar Joya', 'M', '130', '130', '0', '130', '0', 'Current', 'Spring 2023']\n",
            "['224', 'BS(CS)', '19L-1119', 'Laiba Arshad', 'F', '130', '130', '0', '130', '0', 'Current', 'Spring 2023']\n",
            "['225', 'BS(CS)', '19L-1120', 'Hadiya Kashif', 'F', '130', '130', '0', '130', '0', 'Current', 'Spring 2023']\n",
            "['226', 'BS(CS)', '19L-1122', 'Subhan Ali', 'M', '130', '130', '0', '130', '0', 'Current', 'Spring 2023']\n",
            "['227', 'BS(CS)', '19L-1123', 'Anum Kamran', 'F', '130', '130', '0', '130', '0', 'Current', 'Spring 2023']\n",
            "['228', 'BS(CS)', '19L-1126', 'Sana Hassan', 'F', '130', '130', '0', '130', '0', 'Current', 'Spring 2023']\n",
            "['229', 'BS(CS)', '19L-1127', 'Muhammad Ahmed', 'M', '130', '130', '0', '130', '0', 'Current', 'Spring 2023']\n",
            "['230', 'BS(CS)', '19L-1128', 'Areeba Khalil', 'F', '130', '130', '0', '130', '0', 'Current', 'Spring 2023']\n",
            "['231', 'BS(CS)', '19L-1129', 'Muhammad Sulaiman Javed', 'M', '130', '130', '0', '130', '0', 'Current', 'Spring 2023']\n",
            "['232', 'BS(CS)', '19L-1130', 'Eemaan Amir', 'F', '130', '130', '0', '130', '0', 'Current', 'Spring 2023']\n",
            "['233', 'BS(CS)', '19L-1131', 'Muhammad Huzaifa Sandhu', 'M', '130', '130', '0', '130', '0', 'Current', 'Spring 2023']\n",
            "['234', 'BS(CS)', '19L-1132', 'Abdul Moiz', 'M', '130', '130', '0', '130', '0', 'Current', 'Spring 2023']\n",
            "['235', 'BS(CS)', '19L-1133', 'Syed Abdullah Hassan', 'M', '130', '130', '0', '130', '0', 'Current', 'Spring 2023']\n",
            "['236', 'BS(CS)', '19L-1135', 'Abdul Rehman', 'M', '130', '130', '0', '130', '0', 'Current', 'Spring 2023']\n",
            "['237', 'BS(CS)', '19L-1136', 'Syed Askar Hussain Gillani', 'M', '130', '130', '0', '130', '0', 'Current', 'Spring 2023']\n",
            "['238', 'BS(CS)', '19L-1137', 'Syeda Khadeejah Rizvi', 'F', '130', '130', '0', '130', '0', 'Current', 'Spring 2023']\n",
            "['239', 'BS(CS)', '19L-1140', 'Taimur Shahid', 'M', '130', '130', '0', '130', '0', 'Current', 'Spring 2023']\n",
            "['240', 'BS(CS)', '19L-1144', 'Muhammad Gohar', 'M', '130', '130', '0', '130', '0', 'Current', 'Spring 2023']\n",
            "['241', 'BS(CS)', '19L-1146', 'Abeer Azam', 'F', '130', '130', '0', '130', '0', 'Current', 'Spring 2023']\n",
            "['242', 'BS(CS)', '19L-1150', 'Abdul Rehman Athar', 'M', '130', '130', '0', '130', '0', 'Current', 'Spring 2023']\n",
            "['243', 'BS(CS)', '19L-1151', 'Muhammad Inamullah Ch', 'M', '130', '130', '0', '130', '0', 'Current', 'Spring 2023']\n",
            "['244', 'BS(CS)', '19L-1152', 'Ameer Hamza Khan', 'M', '130', '130', '0', '130', '0', 'Current', 'Spring 2023']\n",
            "['245', 'BS(CS)', '19L-1159', 'Mubeen Zulfiqar', 'M', '130', '130', '0', '130', '0', 'Current', 'Spring 2023']\n",
            "['246', 'BS(CS)', '19L-1160', 'Abdullah Asim', 'M', '130', '130', '0', '130', '0', 'Current', 'Spring 2023']\n",
            "['247', 'BS(CS)', '19L-1161', 'Hamna Arifeen', 'F', '130', '130', '0', '130', '0', 'Current', 'Spring 2023']\n",
            "['248', 'BS(CS)', '19L-1162', 'Raida Munir', 'F', '130', '130', '0', '130', '0', 'Current', 'Spring 2023']\n",
            "['249', 'BS(CS)', '19L-1168', 'Farwa Batool', 'F', '130', '130', '0', '130', '0', 'Current', 'Spring 2023']\n",
            "['250', 'BS(CS)', '19L-1169', 'Najia Ikhlaq', 'F', '130', '130', '0', '130', '0', 'Current', 'Spring 2023']\n",
            "['251', 'BS(CS)', '19L-1170', 'Shimaim Khan', 'M', '130', '130', '0', '130', '0', 'Current', 'Spring 2023']\n",
            "['252', 'BS(CS)', '19L-1172', 'Ayesha Yousaf', 'F', '130', '130', '0', '130', '0', 'Current', 'Spring 2023']\n",
            "['253', 'BS(CS)', '19L-1173', 'Huzafa Zahoor', 'M', '130', '130', '0', '130', '0', 'Current', 'Spring 2023']\n",
            "['254', 'BS(CS)', '19L-1175', 'Sajdah Shoaib', 'F', '130', '130', '0', '130', '0', 'Current', 'Spring 2023']\n",
            "['255', 'BS(CS)', '19L-1178', 'Muhammad Sannan Yousuf', 'M', '130', '130', '0', '130', '0', 'Current', 'Spring 2023']\n",
            "['256', 'BS(CS)', '19L-1179', 'Syed Samar Abbas', 'M', '130', '130', '0', '130', '0', 'Current', 'Spring 2023']\n",
            "['257', 'BS(CS)', '19L-1184', 'Hassan Salahuddin', 'M', '130', '130', '0', '130', '0', 'Current', 'Spring 2023']\n",
            "['258', 'BS(CS)', '19L-1185', 'Zainab Ilyas', 'F', '130', '130', '0', '130', '0', 'Current', 'Spring 2023']\n",
            "['259', 'BS(CS)', '19L-1189', 'Umer Farooq', 'M', '130', '130', '0', '130', '0', 'Current', 'Spring 2023']\n",
            "['260', 'BS(CS)', '19L-1190', 'Muhammad Mahad Chaudary', 'M', '130', '130', '0', '130', '0', 'Current', 'Spring 2023']\n",
            "['261', 'BS(CS)', '19L-1193', 'Shaheer Bin Aamir', 'M', '130', '130', '0', '130', '0', 'Current', 'Spring 2023']\n",
            "['262', 'BS(CS)', '19L-1196', 'Zaeem Yousaf', 'M', '130', '130', '0', '130', '0', 'Current', 'Spring 2023']\n",
            "['263', 'BS(CS)', '19L-1197', 'Muhammad Asjad Naeem', 'M', '130', '130', '0', '130', '0', 'Current', 'Spring 2023']\n",
            "['264', 'BS(CS)', '19L-1199', 'Muhammad Ahmad', 'M', '130', '130', '0', '130', '0', 'Current', 'Spring 2023']\n",
            "['265', 'BS(CS)', '19L-1200', 'Haider Nadeem', 'M', '130', '130', '0', '130', '0', 'Current', 'Spring 2023']\n",
            "['266', 'BS(CS)', '19L-1203', 'Osama Zahid', 'M', '130', '130', '0', '130', '0', 'Current', 'Spring 2023']\n",
            "['267', 'BS(CS)', '19L-1204', 'Kunzah Shahid', 'F', '130', '130', '0', '130', '0', 'Current', 'Spring 2023']\n",
            "['268', 'BS(CS)', '19L-1205', 'Muhammad Zia Ur Rehman', 'M', '130', '130', '0', '130', '0', 'Current', 'Spring 2023']\n",
            "['269', 'BS(CS)', '19L-1206', 'Muhammad Nooh Javed', 'M', '130', '130', '0', '130', '0', 'Current', 'Spring 2023']\n",
            "['270', 'BS(CS)', '19L-1212', 'Nafeesa Arif', 'M', '130', '130', '0', '130', '0', 'Current', 'Spring 2023']\n",
            "['271', 'BS(CS)', '19L-1215', 'Maryam Shahid', 'F', '130', '130', '0', '130', '0', 'Current', 'Spring 2023']\n",
            "['272', 'BS(CS)', '19L-1216', 'Zanjeel Tariq Sahi', 'F', '130', '130', '0', '130', '0', 'Current', 'Spring 2023']\n",
            "['273', 'BS(CS)', '19L-1220', 'Muhammad Ahmed', 'M', '130', '130', '0', '130', '0', 'Current', 'Spring 2023']\n",
            "['274', 'BS(CS)', '19L-1222', 'Abdul Haseeb', 'M', '130', '130', '0', '130', '0', 'Current', 'Spring 2023']\n",
            "['275', 'BS(CS)', '19L-1224', 'Muhammad Hassaan Hanif', 'M', '130', '130', '0', '130', '0', 'Current', 'Spring 2023']\n",
            "['276', 'BS(CS)', '19L-1227', 'Muhammad Sajawal Sial', 'M', '130', '130', '0', '130', '0', 'Current', 'Spring 2023']\n",
            "['277', 'BS(CS)', '19L-1230', 'Adil Mir', 'M', '130', '130', '0', '130', '0', 'Current', 'Spring 2023']\n",
            "['278', 'BS(CS)', '19L-1232', 'Bilal Sardar', 'M', '130', '130', '0', '130', '0', 'Current', 'Spring 2023']\n",
            "['279', 'BS(CS)', '19L-1236', 'Farhan Ali', 'M', '130', '130', '0', '130', '0', 'Current', 'Spring 2023']\n",
            "['280', 'BS(CS)', '19L-1237', 'Sajid Saleem', 'M', '130', '130', '0', '130', '0', 'Current', 'Spring 2023']\n",
            "['281', 'BS(CS)', '19L-1239', 'Mariam Salman', 'F', '130', '130', '0', '130', '0', 'Current', 'Spring 2023']\n",
            "['282', 'BS(CS)', '19L-1242', 'Muhammad Ehsan Ullah', 'M', '130', '130', '0', '130', '0', 'Current', 'Spring 2023']\n",
            "['283', 'BS(CS)', '19L-1244', 'Muhammad Fahad Khawaja', 'M', '130', '130', '0', '130', '0', 'Current', 'Spring 2023']\n",
            "['284', 'BS(CS)', '19L-1246', 'Syed Mohib Ali Kazmi', 'M', '130', '130', '0', '130', '0', 'Current', 'Spring 2023']\n",
            "['285', 'BS(CS)', '19L-2205', 'Tayyaba Shahid', 'F', '130', '130', '0', '130', '0', 'Current', 'Spring 2023']\n",
            "['286', 'BS(CS)', '19L-2206', 'Ahmad Abdullah', 'M', '130', '130', '0', '130', '0', 'Current', 'Spring 2023']\n",
            "['287', 'BS(CS)', '19L-2209', 'Moazzan Ishfaq', 'M', '130', '130', '0', '130', '0', 'Current', 'Spring 2023']\n",
            "['288', 'BS(CS)', '19L-2212', 'Muhammad Ibrahim Tayyab', 'M', '130', '130', '0', '130', '0', 'Current', 'Spring 2023']\n",
            "['289', 'BS(CS)', '19L-2219', 'Rameen Nabi', 'F', '130', '130', '0', '130', '0', 'Current', 'Spring 2023']\n",
            "['290', 'BS(CS)', '19L-2222', 'Abdur Rehman Siddiqui', 'M', '130', '130', '0', '130', '0', 'Current', 'Spring 2023']\n",
            "['291', 'BS(CS)', '19L-2225', 'Zaviyaar Bin Irfan', 'M', '130', '130', '0', '130', '0', 'Current', 'Spring 2023']\n",
            "['292', 'BS(CS)', '19L-2227', 'Syed Muhammad Hani', 'M', '130', '130', '0', '130', '0', 'Current', 'Spring 2023']\n",
            "['293', 'BS(CS)', '19L-2228', 'Omama Kashan', 'M', '130', '130', '0', '130', '0', 'Current', 'Spring 2023']\n",
            "['294', 'BS(CS)', '19L-2229', 'Ali Shan', 'M', '130', '130', '0', '130', '0', 'Current', 'Spring 2023']\n",
            "['295', 'BS(CS)', '19L-2232', 'Usama Iqbal', 'M', '130', '130', '0', '130', '0', 'Current', 'Spring 2023']\n",
            "['296', 'BS(CS)', '19L-2235', 'Muhammad Zubair Khan', 'M', '130', '130', '0', '130', '0', 'Current', 'Spring 2023']\n",
            "['297', 'BS(CS)', '19L-2236', 'Asad Kamran', 'M', '130', '130', '0', '130', '0', 'Current', 'Spring 2023']\n",
            "['298', 'BS(CS)', '19L-2237', 'Anam Naeem', 'F', '130', '130', '0', '130', '0', 'Current', 'Spring 2023']\n",
            "['299', 'BS(CS)', '19L-2240', 'Usman Afzal', 'M', '130', '130', '0', '130', '0', 'Current', 'Spring 2023']\n",
            "['300', 'BS(CS)', '19L-2242', 'Aazish Ahmed', 'M', '130', '130', '0', '130', '0', 'Current', 'Spring 2023']\n",
            "['301', 'BS(CS)', '19L-2251', 'Asma Ahmed', 'F', '130', '130', '0', '130', '0', 'Current', 'Spring 2023']\n",
            "['302', 'BS(CS)', '19L-2252', 'Usama Ahmad', 'M', '130', '130', '0', '130', '0', 'Current', 'Spring 2023']\n",
            "['303', 'BS(CS)', '19L-2253', 'Aiza Hamid', 'F', '130', '130', '0', '130', '0', 'Current', 'Spring 2023']\n",
            "['304', 'BS(CS)', '19L-2254', 'Maida Tariq', 'F', '130', '130', '0', '130', '0', 'Current', 'Spring 2023']\n",
            "['305', 'BS(CS)', '19L-2256', 'Waleed', 'M', '130', '130', '0', '130', '0', 'Current', 'Spring 2023']\n",
            "['306', 'BS(CS)', '19L-2257', 'Sameed Ahmad', 'M', '130', '130', '0', '130', '0', 'Current', 'Spring 2023']\n",
            "['307', 'BS(CS)', '19L-2258', 'Muhammad Saad Shafiq', 'M', '130', '130', '0', '130', '0', 'Current', 'Spring 2023']\n",
            "['308', 'BS(CS)', '19L-2262', 'Ayesha Ahmad', 'F', '130', '130', '0', '130', '0', 'Current', 'Spring 2023']\n",
            "['309', 'BS(CS)', '19L-2267', 'Muhammad Muneeb Ur Rehman', 'M', '130', '130', '0', '130', '0', 'Current', 'Spring 2023']\n",
            "['310', 'BS(CS)', '19L-2270', 'Muhammad Ramzan', 'M', '130', '130', '0', '130', '0', 'Current', 'Spring 2023']\n",
            "['311', 'BS(CS)', '19L-2271', 'Ammar Ahmad', 'M', '130', '130', '0', '130', '0', 'Current', 'Spring 2023']\n",
            "['312', 'BS(CS)', '19L-2273', 'Faseeh Ullah Jafar', 'M', '130', '130', '0', '130', '0', 'Current', 'Spring 2023']\n",
            "['313', 'BS(CS)', '19L-2275', 'Shehzadi Samra Tasawar', 'F', '130', '130', '0', '130', '0', 'Current', 'Spring 2023']\n",
            "['314', 'BS(CS)', '19L-2276', 'Javeria Zulfiqar', 'F', '130', '130', '0', '130', '0', 'Current', 'Spring 2023']\n",
            "['315', 'BS(CS)', '19L-2277', 'Mirza Zain Ali Nasir', 'M', '130', '130', '0', '130', '0', 'Current', 'Spring 2023']\n",
            "['316', 'BS(CS)', '19L-2279', 'Maham Aslam Alvi', 'F', '130', '130', '0', '130', '0', 'Current', 'Spring 2023']\n",
            "['317', 'BS(CS)', '19L-2281', 'Muhammad Usman Kabeer', 'M', '130', '130', '0', '130', '0', 'Current', 'Spring 2023']\n",
            "['318', 'BS(CS)', '19L-2285', 'Muhammad Wasil Islam', 'M', '130', '130', '0', '130', '0', 'Current', 'Spring 2023']\n",
            "['319', 'BS(CS)', '19L-2288', 'Hafiz Abdullah', 'M', '130', '130', '0', '130', '0', 'Current', 'Spring 2023']\n",
            "['320', 'BS(CS)', '19L-2290', 'Aemal Ismail Khan', 'M', '130', '130', '0', '130', '0', 'Current', 'Spring 2023']\n",
            "['321', 'BS(CS)', '19L-2293', 'Muhammad Abdur Rafey', 'M', '130', '130', '0', '130', '0', 'Current', 'Spring 2023']\n",
            "['322', 'BS(CS)', '19L-2295', 'Muhammad Shmoon', 'M', '130', '130', '0', '130', '0', 'Current', 'Spring 2023']\n",
            "['323', 'BS(CS)', '19L-2300', 'Muhammad Ahmad', 'M', '130', '130', '0', '130', '0', 'Current', 'Spring 2023']\n",
            "['324', 'BS(CS)', '19L-2303', 'Muhammad Arslan Ashraf', 'M', '130', '130', '0', '130', '0', 'Current', 'Spring 2023']\n",
            "['325', 'BS(CS)', '19L-2305', 'Muhammad Musa Malik', 'M', '130', '130', '0', '130', '0', 'Current', 'Spring 2023']\n",
            "['326', 'BS(CS)', '19L-2306', 'Hadi Haider', 'M', '130', '130', '0', '130', '0', 'Current', 'Spring 2023']\n",
            "['327', 'BS(CS)', '19L-2308', 'Ayesha Rizwan', 'F', '130', '130', '0', '130', '0', 'Current', 'Spring 2023']\n",
            "['328', 'BS(CS)', '19L-2309', 'Munawar Hussain', 'M', '130', '130', '0', '130', '0', 'Current', 'Spring 2023']\n",
            "['329', 'BS(CS)', '19L-2311', 'Muhammad Sameer Naveed', 'M', '130', '130', '0', '130', '0', 'Current', 'Spring 2023']\n",
            "['330', 'BS(CS)', '19L-2316', 'Abdullah Naeem', 'M', '130', '130', '0', '130', '0', 'Current', 'Spring 2023']\n",
            "['331', 'BS(CS)', '19L-2320', 'Aariz Arqam', 'M', '133', '130', '0', '130', '0', 'Current', 'Spring 2023']\n",
            "['332', 'BS(CS)', '19L-2322', 'Mughees Ahmad', 'M', '130', '130', '0', '130', '0', 'Current', 'Spring 2023']\n",
            "['333', 'BS(CS)', '19L-2323', 'Tabish Javed', 'M', '130', '130', '0', '130', '0', 'Current', 'Spring 2023']\n",
            "['334', 'BS(CS)', '19L-2331', 'Thani Ath Nain', 'M', '130', '130', '0', '130', '0', 'Current', 'Spring 2023']\n",
            "['335', 'BS(CS)', '19L-2335', 'Muhammad Hamza Saleem', 'M', '130', '130', '0', '130', '0', 'Current', 'Spring 2023']\n",
            "['336', 'BS(CS)', '19L-2342', 'Zainab Nauman', 'F', '130', '130', '0', '130', '0', 'Current', 'Spring 2023']\n",
            "['337', 'BS(CS)', '19L-2343', 'Ubaid Ur Rehman', 'M', '130', '130', '0', '130', '0', 'Current', 'Spring 2023']\n",
            "['338', 'BS(CS)', '19L-2344', 'Hanzallah Rizwan Khan', 'M', '130', '130', '0', '130', '0', 'Current', 'Spring 2023']\n",
            "['339', 'BS(CS)', '19L-2346', 'Sajawal Ali', 'M', '130', '130', '0', '130', '0', 'Current', 'Spring 2023']\n",
            "['340', 'BS(CS)', '19L-2347', 'Muhammad Maarij', 'M', '130', '130', '0', '130', '0', 'Current', 'Spring 2023']\n",
            "['341', 'BS(CS)', '19L-2350', 'Salma Aziz', 'F', '130', '130', '0', '130', '0', 'Current', 'Spring 2023']\n",
            "['342', 'BS(CS)', '19L-2351', 'Laiba Afzal', 'F', '130', '130', '0', '130', '0', 'Current', 'Spring 2023']\n",
            "['343', 'BS(CS)', '19L-2356', 'Muhammad Usman Arshad', 'M', '130', '130', '0', '130', '0', 'Current', 'Spring 2023']\n",
            "['344', 'BS(CS)', '19L-2359', 'Razi Ahmad', 'M', '130', '130', '0', '130', '0', 'Current', 'Spring 2023']\n",
            "['345', 'BS(CS)', '19L-2361', 'Nivyan Shuaib Butt', 'M', '130', '130', '0', '130', '0', 'Current', 'Spring 2023']\n",
            "['346', 'BS(CS)', '19L-2362', 'Muhammad Haris Bin Rehan', 'M', '130', '130', '0', '130', '0', 'Current', 'Spring 2023']\n",
            "['347', 'BS(CS)', '19L-2363', 'Muhammad Aamish', 'M', '130', '130', '0', '130', '0', 'Current', 'Spring 2023']\n",
            "['348', 'BS(CS)', '19L-2364', 'Syeda Rabia Fatima', 'F', '130', '130', '0', '130', '0', 'Current', 'Spring 2023']\n",
            "['349', 'BS(CS)', '19L-2367', 'Laiba Gohar', 'F', '130', '130', '0', '130', '0', 'Current', 'Spring 2023']\n",
            "['350', 'BS(CS)', '19L-2368', 'Muhammad Raza Ali Malik', 'M', '130', '130', '0', '130', '0', 'Current', 'Spring 2023']\n",
            "['351', 'BS(CS)', '19L-2371', 'Muhammad Hammad', 'M', '130', '130', '0', '130', '0', 'Current', 'Spring 2023']\n",
            "['352', 'BS(CS)', '19L-2372', 'Muhammad Abdullah Asad', 'M', '130', '130', '0', '130', '0', 'Current', 'Spring 2023']\n",
            "['353', 'BS(CS)', '19L-2375', 'Humza Noor Sattari', 'M', '130', '130', '0', '130', '0', 'Current', 'Spring 2023']\n",
            "['354', 'BS(CS)', '19L-2377', 'Hira Ijaz', 'F', '130', '130', '0', '130', '0', 'Current', 'Spring 2023']\n",
            "['355', 'BS(CS)', '19L-2380', 'Muhammad Hassan Naeem', 'M', '130', '130', '0', '130', '0', 'Current', 'Spring 2023']\n",
            "['356', 'BS(CS)', '19L-2383', 'Amna Tahir', 'F', '130', '130', '0', '130', '0', 'Current', 'Spring 2023']\n",
            "['357', 'BS(CS)', '19L-2387', 'Tooba Abdullah', 'F', '130', '130', '0', '130', '0', 'Current', 'Spring 2023']\n",
            "['358', 'BS(CS)', '19L-2392', 'Haroon Tahir', 'M', '130', '130', '0', '130', '0', 'Current', 'Spring 2023']\n",
            "['359', 'BS(CS)', '19L-2396', 'Mirza Usman Baig', 'M', '130', '130', '0', '130', '0', 'Current', 'Spring 2023']\n",
            "['360', 'BS(CS)', '19L-2708', 'Zulqarnain', 'M', '130', '130', '0', '130', '0', 'Current', 'Spring 2023']\n",
            "['361', 'BS(CS)', '19L-2709', 'Amina Qaiser', 'F', '130', '130', '0', '130', '0', 'Current', 'Spring 2023']\n",
            "['362', 'BS(CS)', '19L-2710', 'Kashif Riaz', 'M', '130', '130', '0', '130', '0', 'Current', 'Spring 2023']\n",
            "['363', 'BS(CS)', '19L-2717', 'Sarah Rafi', 'F', '130', '130', '0', '130', '0', 'Current', 'Spring 2023']\n",
            "['364', 'BS(CS)', '19L-2731', 'Ahsan Khalid', 'M', '130', '130', '0', '130', '0', 'Current', 'Spring 2023']\n",
            "['365', 'BS(CS)', '19L-2732', 'Sullahuddin', 'M', '130', '130', '0', '130', '0', 'Current', 'Spring 2023']\n",
            "['366', 'BS(CS)', '19L-2737', 'Iman Jawad', 'F', '130', '130', '0', '130', '0', 'Current', 'Spring 2023']\n",
            "['367', 'BS(CS)', '19L-2740', 'Hadia Ishtiaq', 'F', '130', '130', '0', '130', '0', 'Current', 'Spring 2023']\n",
            "['368', 'BS(CS)', '19L-2744', 'Behzad Nabeel Khokher', 'M', '130', '130', '0', '130', '0', 'Current', 'Spring 2023']\n",
            "['369', 'BS(CS)', '19L-2745', 'Abdullah Saleem', 'M', '130', '130', '0', '130', '0', 'Current', 'Spring 2023']\n",
            "['370', 'BS(CS)', '19L-2756', 'Muhammad Hassan Shahzad', 'M', '130', '130', '0', '130', '0', 'Current', 'Spring 2023']\n",
            "['371', 'BS(CS)', '19L-2761', 'Abdullah', 'M', '130', '130', '0', '130', '0', 'Current', 'Spring 2023']\n",
            "['372', 'BS(CS)', '19L-2762', 'Nameera Azhar', 'F', '130', '130', '0', '130', '0', 'Current', 'Spring 2023']\n",
            "['373', 'BS(CS)', '19L-2767', 'Ali Qumail', 'M', '130', '130', '0', '130', '0', 'Current', 'Spring 2023']\n",
            "['374', 'BS(CS)', '19L-2769', 'Hafiz Muhammad Itsam Shafqat', 'M', '130', '130', '0', '130', '0', 'Current', 'Spring 2023']\n",
            "['375', 'BS(CS)', '15L-4249', 'Ahmed Saeed', 'M', '130', '127', '0', '127', '0', 'Current', 'Spring 2023']\n",
            "['376', 'BS(CS)', '18L-2181', 'Muhammad Ghasif Javed', 'M', '133', '127', '0', '127', '0', 'Current', 'Spring 2023']\n",
            "['377', 'BS(CV)', '16L-5412', 'Mian Abdur Rehman Tasadduq', 'M', '140', '140', '0', '140', '0', 'Current', 'Spring 2023']\n",
            "['378', 'BS(CV)', '18L-0710', 'Adil Akhtar', 'M', '138', '138', '0', '138', '0', 'Current', 'Spring 2023']\n",
            "['379', 'BS(CV)', '18L-0713', 'Sharjeel Gill', 'M', '138', '138', '0', '138', '0', 'Current', 'Spring 2023']\n",
            "['380', 'BS(CV)', '18L-0723', 'Hamza Ahmad Yar Khan', 'M', '140', '138', '0', '138', '0', 'Current', 'Spring 2023']\n",
            "['381', 'BS(CV)', '18L-4057', 'Ali Rehman', 'M', '138', '138', '0', '138', '0', 'Current', 'Spring 2023']\n",
            "['382', 'BS(CV)', '18L-4067', 'Elisha Saleem', 'M', '130', '130', '8', '138', '0', 'Current', 'Spring 2023']\n",
            "['383', 'BS(CV)', '19L-0701', 'Muhammad Azhar Siddique', 'M', '139', '139', '0', '139', '0', 'Current', 'Spring 2023']\n",
            "['384', 'BS(CV)', '19L-0704', 'Hamza Mubashar', 'M', '138', '138', '0', '138', '0', 'Current', 'Spring 2023']\n",
            "['385', 'BS(CV)', '19L-0709', 'Muhammad Samir Amjad', 'M', '138', '138', '0', '138', '0', 'Current', 'Spring 2023']\n",
            "['386', 'BS(CV)', '19L-0710', 'Daanial Mahmood', 'M', '138', '138', '0', '138', '0', 'Current', 'Spring 2023']\n",
            "['387', 'BS(CV)', '19L-0718', 'Malik Muhammad Junaid', 'M', '138', '138', '0', '138', '0', 'Current', 'Spring 2023']\n",
            "['388', 'BS(CV)', '19L-0719', 'Nouman Ali', 'M', '138', '138', '0', '138', '0', 'Current', 'Spring 2023']\n",
            "['389', 'BS(CV)', '19L-0720', 'Zohaib Hassan', 'M', '138', '138', '0', '138', '0', 'Current', 'Spring 2023']\n",
            "['390', 'BS(CV)', '19L-0735', 'Muhammad Adnan', 'M', '138', '138', '0', '138', '0', 'Current', 'Spring 2023']\n",
            "['391', 'BS(CV)', '19L-0746', 'Noor Fatima', 'F', '138', '138', '0', '138', '0', 'Current', 'Spring 2023']\n",
            "['392', 'BS(CV)', '19L-0754', 'Muhammad Tayyab', 'M', '138', '138', '0', '138', '0', 'Current', 'Spring 2023']\n",
            "['393', 'BS(CV)', '19L-0756', 'Abdur Rehman Zahid', 'M', '138', '138', '0', '138', '0', 'Current', 'Spring 2023']\n",
            "['394', 'BS(CV)', '19L-0769', 'Ali Abbas', 'M', '138', '138', '0', '138', '0', 'Current', 'Spring 2023']\n",
            "['395', 'BS(CV)', '19L-0771', 'Abu Bakar', 'M', '138', '138', '0', '138', '0', 'Current', 'Spring 2023']\n",
            "['396', 'BS(CV)', '19L-0775', 'Abdul Moeiz  Khan', 'M', '138', '138', '0', '138', '0', 'Current', 'Spring 2023']\n",
            "['397', 'BS(CV)', '19L-0776', 'Muhammad Haseeb', 'M', '138', '138', '0', '138', '0', 'Current', 'Spring 2023']\n",
            "['398', 'BS(CV)', '19L-0783', 'Ammar Shafique', 'M', '138', '138', '0', '138', '0', 'Current', 'Spring 2023']\n",
            "['399', 'BS(CV)', '17L-4638', 'Faran Waheed Khan', 'M', '138', '136', '0', '136', '0', 'Current', 'Spring 2023']\n",
            "['400', 'BS(CV)', '18L-0726', 'Muhammad Hashim Attiq', 'M', '138', '135', '0', '135', '0', 'Current', 'Spring 2023']\n",
            "['401', 'BS(CV)', '18L-4047', 'Muhammad Hassaan Sarfraz', 'M', '140', '135', '0', '135', '0', 'Current', 'Spring 2023']\n",
            "['402', 'BS(CV)', '18L-4068', 'Abdul Rafey Asad', 'M', '130', '127', '8', '135', '0', 'Current', 'Spring 2023']\n",
            "['403', 'BS(CV)', '19L-0707', 'Muhammad Ahmed Khan', 'M', '138', '135', '0', '135', '0', 'Current', 'Spring 2023']\n",
            "['404', 'BS(CV)', '19L-0708', 'Mahnoor Rana', 'F', '138', '135', '0', '135', '0', 'Current', 'Spring 2023']\n",
            "['405', 'BS(CV)', '19L-0711', 'Basit Ali Tariq', 'M', '138', '135', '0', '135', '0', 'Current', 'Spring 2023']\n",
            "['406', 'BS(CV)', '19L-0713', 'Abdul Ali Bin Hameedullah', 'M', '138', '135', '0', '135', '0', 'Current', 'Spring 2023']\n",
            "['407', 'BS(CV)', '19L-0715', 'Muhammad Adil', 'M', '138', '135', '0', '135', '0', 'Current', 'Spring 2023']\n",
            "['408', 'BS(CV)', '19L-0727', 'Abdullah Bin Saqib', 'M', '138', '135', '0', '135', '0', 'Current', 'Spring 2023']\n",
            "['409', 'BS(CV)', '19L-0728', 'Hamza Irfan', 'M', '138', '135', '0', '135', '0', 'Current', 'Spring 2023']\n",
            "['410', 'BS(CV)', '19L-0730', 'Muhammad Usman', 'M', '138', '135', '0', '135', '0', 'Current', 'Spring 2023']\n",
            "['411', 'BS(CV)', '19L-0734', 'Ramla Masood Cheema', 'F', '138', '135', '0', '135', '0', 'Current', 'Spring 2023']\n",
            "['412', 'BS(CV)', '19L-0737', 'Munazza Batool', 'F', '138', '135', '0', '135', '0', 'Current', 'Spring 2023']\n",
            "['413', 'BS(CV)', '19L-0742', 'Rizwan Raza', 'M', '138', '135', '0', '135', '0', 'Current', 'Spring 2023']\n",
            "['414', 'BS(CV)', '19L-0744', 'Ahmad Abdur Rehman', 'M', '138', '135', '0', '135', '0', 'Current', 'Spring 2023']\n",
            "['415', 'BS(CV)', '19L-0760', 'Uzair Nadeem', 'M', '138', '135', '0', '135', '0', 'Current', 'Spring 2023']\n",
            "['416', 'BS(CV)', '19L-0762', 'Bilal Zaheer', 'M', '138', '135', '0', '135', '0', 'Current', 'Spring 2023']\n",
            "['417', 'BS(CV)', '19L-0767', 'Abdul Moeed Bukhari', 'M', '138', '135', '0', '135', '0', 'Current', 'Spring 2023']\n",
            "['418', 'BS(CV)', '19L-0782', 'Muhammad Waleed', 'M', '138', '135', '0', '135', '0', 'Current', 'Spring 2023']\n",
            "['419', 'BS(CV)', '19L-0784', 'Muhammad Hassan Raza', 'M', '138', '135', '0', '135', '0', 'Current', 'Spring 2023']\n",
            "['420', 'BS(CV)', '19L-0785', 'Muhammad Ahmad', 'M', '138', '133', '0', '133', '0', 'Current', 'Spring 2023']\n",
            "['421', 'BS(CV)', '19L-0791', 'Ahmer Bilal Shahid', 'M', '138', '135', '0', '135', '0', 'Current', 'Spring 2023']\n",
            "['422', 'BS(CV)', '19L-0793', 'Noor Fatima', 'F', '138', '135', '0', '135', '0', 'Current', 'Spring 2023']\n",
            "['423', 'BS(CV)', '19L-0794', 'Tooba Arham Ishfaq', 'F', '138', '135', '0', '135', '0', 'Current', 'Spring 2023']\n",
            "['424', 'BS(CV)', '19L-0795', 'Mohammad Dawood Arshad', 'M', '138', '135', '0', '135', '0', 'Current', 'Spring 2023']\n",
            "['425', 'BS(CV)', '19L-0796', 'Rana Saram Ashraf', 'M', '138', '135', '0', '135', '0', 'Current', 'Spring 2023']\n",
            "['426', 'BS(CV)', '19L-0799', 'Muhammad Mubeen Khalid', 'M', '138', '135', '0', '135', '0', 'Current', 'Spring 2023']\n",
            "['427', 'BS(CV)', '19L-0800', 'Ifra Akhlaq', 'F', '138', '135', '0', '135', '0', 'Current', 'Spring 2023']\n",
            "['428', 'BS(CV)', '19L-0802', 'Amna Sami', 'F', '75', '72', '63', '135', '0', 'Current', 'Spring 2023']\n",
            "['429', 'BS(EE)', '17L-4419', 'Muhammad Hizbullah Malik', 'M', '138', '138', '0', '138', '0', 'Current', 'Spring 2023']\n",
            "['430', 'BS(EE)', '17L-4554', 'Umair Ismail', 'M', '137', '137', '0', '137', '0', 'Current', 'Spring 2023']\n",
            "['431', 'BS(EE)', '18L-1305', 'Muhammad Wajahat', 'M', '138', '138', '0', '138', '0', 'Current', 'Spring 2023']\n",
            "['432', 'BS(EE)', '18L-1363', 'Muhammad Ehsan Ul Haq', 'M', '138', '138', '0', '138', '0', 'Current', 'Spring 2023']\n",
            "['433', 'BS(EE)', '18L-1385', 'Rubab Khan', 'F', '137', '137', '0', '137', '0', 'Current', 'Spring 2023']\n",
            "['434', 'BS(EE)', '18L-1397', 'Muhammad Anas', 'M', '138', '138', '0', '138', '0', 'Current', 'Spring 2023']\n",
            "['435', 'BS(EE)', '18L-1407', 'Usama Ahmad Saleem', 'M', '113', '113', '25', '138', '0', 'Current', 'Spring 2023']\n",
            "['436', 'BS(EE)', '19L-1265', 'Aimen Imran', 'F', '138', '138', '0', '138', '0', 'Current', 'Spring 2023']\n",
            "['437', 'BS(EE)', '19L-1268', 'Muhammad Haris Salman', 'M', '138', '138', '0', '138', '0', 'Current', 'Spring 2023']\n",
            "['438', 'BS(EE)', '19L-1269', 'Musa Muhammad', 'M', '138', '138', '0', '138', '0', 'Current', 'Spring 2023']\n",
            "['439', 'BS(EE)', '19L-1271', 'Muhammad Talha', 'M', '138', '138', '0', '138', '0', 'Current', 'Spring 2023']\n",
            "['440', 'BS(EE)', '19L-1277', 'Asma Iqbal', 'F', '138', '138', '0', '138', '0', 'Current', 'Spring 2023']\n",
            "['441', 'BS(EE)', '19L-1278', 'Sana Hamid', 'F', '138', '138', '0', '138', '0', 'Current', 'Spring 2023']\n",
            "['442', 'BS(EE)', '19L-1283', 'Khawaja Abdul Wahab', 'M', '138', '138', '0', '138', '0', 'Current', 'Spring 2023']\n",
            "['443', 'BS(EE)', '19L-1284', 'Qasim Hayee Khan Lodhi', 'M', '138', '138', '0', '138', '0', 'Current', 'Spring 2023']\n",
            "['444', 'BS(EE)', '19L-1289', 'Hussnain Afzal', 'M', '138', '138', '0', '138', '0', 'Current', 'Spring 2023']\n",
            "['445', 'BS(EE)', '19L-1290', 'Ali Raza', 'M', '138', '138', '0', '138', '0', 'Current', 'Spring 2023']\n",
            "['446', 'BS(EE)', '19L-1292', 'Fareh Ahmad', 'M', '138', '138', '0', '138', '0', 'Current', 'Spring 2023']\n",
            "['447', 'BS(EE)', '19L-1294', 'Zain Ul Abedin', 'M', '138', '138', '0', '138', '0', 'Current', 'Spring 2023']\n",
            "['448', 'BS(EE)', '19L-1295', 'Rahim Munir', 'M', '138', '138', '0', '138', '0', 'Current', 'Spring 2023']\n",
            "['449', 'BS(EE)', '19L-1297', 'Muhammad Abdullah', 'M', '138', '138', '0', '138', '0', 'Current', 'Spring 2023']\n",
            "['450', 'BS(EE)', '19L-1298', 'Muhammad Ahmad', 'M', '138', '138', '0', '138', '0', 'Current', 'Spring 2023']\n",
            "['451', 'BS(EE)', '19L-1299', 'Eisha Khan', 'F', '138', '138', '0', '138', '0', 'Current', 'Spring 2023']\n",
            "['452', 'BS(EE)', '19L-1304', 'Talha Bin Asif', 'M', '138', '138', '0', '138', '0', 'Current', 'Spring 2023']\n",
            "['453', 'BS(EE)', '19L-1305', 'Muhammad Umer Zeb Awan', 'M', '138', '138', '0', '138', '0', 'Current', 'Spring 2023']\n",
            "['454', 'BS(EE)', '19L-1311', 'Muhammad Muzakar Khan', 'M', '138', '138', '0', '138', '0', 'Current', 'Spring 2023']\n",
            "['455', 'BS(EE)', '19L-1317', 'Salman Rashid', 'M', '138', '138', '0', '138', '0', 'Current', 'Spring 2023']\n",
            "['456', 'BS(EE)', '19L-1318', 'Feroz Ahmad', 'M', '138', '138', '0', '138', '0', 'Current', 'Spring 2023']\n",
            "['457', 'BS(EE)', '19L-1319', 'Muhammad Usama', 'M', '138', '138', '0', '138', '0', 'Current', 'Spring 2023']\n",
            "['458', 'BS(EE)', '19L-1322', 'Minaa Khan', 'F', '138', '138', '0', '138', '0', 'Current', 'Spring 2023']\n",
            "['459', 'BS(EE)', '19L-1324', 'Areeba Rafaqat', 'F', '138', '138', '0', '138', '0', 'Current', 'Spring 2023']\n",
            "['460', 'BS(EE)', '19L-1325', 'Malaika Mansoor', 'F', '138', '138', '0', '138', '0', 'Current', 'Spring 2023']\n",
            "['461', 'BS(EE)', '19L-1329', 'Taha Mobeen', 'M', '138', '138', '0', '138', '0', 'Current', 'Spring 2023']\n",
            "['462', 'BS(EE)', '19L-1334', 'Haider Ali', 'M', '138', '138', '0', '138', '0', 'Current', 'Spring 2023']\n",
            "['463', 'BS(EE)', '19L-1341', 'Hafiz Muhammad Muiz Malik', 'M', '138', '138', '0', '138', '0', 'Current', 'Spring 2023']\n",
            "['464', 'BS(EE)', '19L-1347', 'Maham Fiaz', 'F', '138', '138', '0', '138', '0', 'Current', 'Spring 2023']\n",
            "['465', 'BS(EE)', '19L-1351', 'Muhammad Aadil Ateeq', 'M', '138', '138', '0', '138', '0', 'Current', 'Spring 2023']\n",
            "['466', 'BS(EE)', '19L-1354', 'Rizum Atif', 'M', '138', '138', '0', '138', '0', 'Current', 'Spring 2023']\n",
            "['467', 'BS(EE)', '19L-1356', 'Bilal Ahmad', 'M', '138', '138', '0', '138', '0', 'Current', 'Spring 2023']\n",
            "['468', 'BS(EE)', '19L-1359', 'Muhammad Uzman Khan', 'M', '138', '138', '0', '138', '0', 'Current', 'Spring 2023']\n",
            "['469', 'BS(EE)', '19L-1361', 'Muhammad Qasim', 'M', '138', '138', '0', '138', '0', 'Current', 'Spring 2023']\n",
            "['470', 'BS(EE)', '19L-1363', 'Tayyab Zafar', 'M', '138', '138', '0', '138', '0', 'Current', 'Spring 2023']\n",
            "['471', 'BS(EE)', '19L-1368', 'Anique Rafique', 'M', '138', '138', '0', '138', '0', 'Current', 'Spring 2023']\n",
            "['472', 'BS(EE)', '19L-1370', 'Mustafa Shahid', 'M', '138', '138', '0', '138', '0', 'Current', 'Spring 2023']\n",
            "['473', 'BS(EE)', '19L-1371', 'Umar Waseem', 'M', '138', '138', '0', '138', '0', 'Current', 'Spring 2023']\n",
            "['474', 'BS(EE)', '19L-1374', 'Zeerak Khan', 'M', '138', '138', '0', '138', '0', 'Current', 'Spring 2023']\n",
            "['475', 'BS(EE)', '19L-1375', 'Syeda Amna Zameer', 'F', '138', '138', '0', '138', '0', 'Current', 'Spring 2023']\n",
            "['476', 'BS(EE)', '19L-1380', 'Muhammad Hassham', 'M', '138', '138', '0', '138', '0', 'Current', 'Spring 2023']\n",
            "['477', 'BS(EE)', '19L-1382', 'Muhammad Abdullah', 'M', '138', '138', '0', '138', '0', 'Current', 'Spring 2023']\n",
            "['478', 'BS(EE)', '19L-1384', 'Mursal Akhtar Aziz', 'M', '138', '138', '0', '138', '0', 'Current', 'Spring 2023']\n",
            "['479', 'BS(EE)', '19L-1387', 'Muhammad Haroon Qureshi', 'M', '138', '138', '0', '138', '0', 'Current', 'Spring 2023']\n",
            "['480', 'BS(EE)', '19L-1389', 'Abdullah Sohail Syed', 'M', '138', '138', '0', '138', '0', 'Current', 'Spring 2023']\n",
            "['481', 'BS(EE)', '19L-1392', 'Ch Umair Raza', 'M', '138', '138', '0', '138', '0', 'Current', 'Spring 2023']\n",
            "['482', 'BS(EE)', '19L-1395', 'Muhammad Ibrahim Bin Zahid', 'M', '138', '138', '0', '138', '0', 'Current', 'Spring 2023']\n",
            "['483', 'BS(EE)', '19L-1397', 'Muhammad Shehryar Farhat', 'M', '138', '138', '0', '138', '0', 'Current', 'Spring 2023']\n",
            "['484', 'BS(EE)', '19L-1399', 'Raazia Javed', 'F', '138', '138', '0', '138', '0', 'Current', 'Spring 2023']\n",
            "['485', 'BS(EE)', '19L-1403', 'Muhammad Fahad', 'M', '138', '138', '0', '138', '0', 'Current', 'Spring 2023']\n",
            "['486', 'BS(EE)', '19L-1405', 'Shehroze Bin Tahir', 'M', '138', '138', '0', '138', '0', 'Current', 'Spring 2023']\n",
            "['487', 'BS(EE)', '19L-1406', 'Shah Zaman', 'M', '138', '138', '0', '138', '0', 'Current', 'Spring 2023']\n",
            "['488', 'BS(EE)', '19L-1407', 'Muhammad Aliyan', 'M', '138', '138', '0', '138', '0', 'Current', 'Spring 2023']\n",
            "['489', 'BS(EE)', '19L-1409', 'Muhammad Danyal Jamil Chohan', 'M', '138', '138', '0', '138', '0', 'Current', 'Spring 2023']\n",
            "['490', 'BS(EE)', '19L-1410', 'Muhammad Ahmed Amer', 'M', '138', '138', '0', '138', '0', 'Current', 'Spring 2023']\n",
            "['491', 'BS(EE)', '19L-1411', 'Ammar Bin Zaka', 'M', '138', '138', '0', '138', '0', 'Current', 'Spring 2023']\n",
            "['492', 'MBA', '21L-7102', 'Muhammad Huzeifa', 'M', '30', '30', '30', '60', '0', 'Clearance', 'Fall 2022']\n",
            "['493', 'MBA', '20L-2121', 'Muhammad Khizer', 'M', '30', '30', '30', '60', '0', 'Current', 'Spring 2023']\n",
            "['494', 'MBA', '20L-2853', 'Muhammad Ali Bhatti', 'M', '60', '60', '0', '60', '0', 'Current', 'Spring 2023']\n",
            "['495', 'MBA', '21L-7016', 'Ahsan Hameed', 'M', '60', '60', '0', '60', '0', 'Current', 'Spring 2023']\n",
            "['496', 'MBA', '21L-7084', 'Salahuddin Ayubi', 'M', '60', '60', '0', '60', '0', 'Current', 'Spring 2023']\n",
            "['497', 'MBA', '21L-7086', 'Ali Zahid Amin', 'M', '60', '60', '0', '60', '0', 'Current', 'Spring 2023']\n",
            "['498', 'MBA', '21L-7088', 'Aleen Naeem', 'F', '60', '60', '0', '60', '0', 'Current', 'Spring 2023']\n",
            "['499', 'MBA', '21L-7105', 'Yusra Khalid', 'M', '60', '60', '0', '60', '0', 'Current', 'Spring 2023']\n",
            "['500', 'MBA', '21L-7108', 'Hafsa Naeem', 'F', '60', '60', '0', '60', '0', 'Current', 'Spring 2023']\n",
            "['501', 'MBA', '21L-7117', 'Masjood Hussain Shah', 'M', '60', '60', '0', '60', '0', 'Current', 'Spring 2023']\n",
            "['502', 'MBA', '21L-7124', 'Ch Ahmad Raza Bhatti', 'M', '30', '30', '30', '60', '0', 'Current', 'Spring 2023']\n",
            "['503', 'MBA', '21L-7130', 'Shahzaib Iqbal', 'M', '30', '30', '30', '60', '0', 'Current', 'Spring 2023']\n",
            "['504', 'MBA', '21L-7131', 'Kamran Ashraf', 'M', '54', '54', '6', '60', '0', 'Current', 'Spring 2023']\n",
            "['505', 'MBA', '21L-7132', 'Bisma Ashraf', 'F', '30', '30', '30', '60', '0', 'Current', 'Spring 2023']\n",
            "['506', 'MBA', '21L-7133', 'Mudasar Saeed', 'M', '30', '30', '30', '60', '0', 'Current', 'Spring 2023']\n",
            "['507', 'MBA', '22L-0003', 'Alishba Tayyab', 'F', '30', '30', '30', '60', '0', 'Current', 'Spring 2023']\n",
            "['508', 'MBA', '22L-0005', 'Wasiq Khalid', 'M', '30', '30', '30', '60', '0', 'Current', 'Spring 2023']\n",
            "['509', 'MBA', '22L-0009', 'Abubakr Saleem', 'M', '30', '30', '30', '60', '0', 'Current', 'Spring 2023']\n",
            "['510', 'MBA', '22L-0012', 'Ifrah Zaeem', 'F', '30', '30', '30', '60', '0', 'Current', 'Spring 2023']\n",
            "['511', 'MBA', '22L-0014', 'Ayesha Mehmood', 'F', '30', '30', '30', '60', '0', 'Current', 'Spring 2023']\n",
            "['512', 'MBA', '22L-0017', 'Muhammad Salman Tipu', 'M', '30', '30', '30', '60', '0', 'Current', 'Spring 2023']\n",
            "['513', 'MBA', '22L-0019', 'Aimen Nadeem', 'F', '30', '30', '30', '60', '0', 'Current', 'Spring 2023']\n",
            "['514', 'MBA', '21L-7001', 'Muhammad Qasim Sagheer', 'M', '60', '57', '0', '57', '0', 'Current', 'Spring 2023']\n",
            "['515', 'MBA', '22L-0011', 'Muhammad Hassaan Basit', 'M', '30', '27', '30', '57', '0', 'Current', 'Spring 2023']\n",
            "['516', 'MS(AF)', '20L-2153', 'Muhammad Shoaib Alam', 'M', '33', '30', '0', '30', '0', 'Current', 'Spring 2023']\n",
            "['517', 'MS(AF)', '19L-1611', 'Maqsood Ahmed Nasir', 'M', '33', '30', '0', '30', '0', 'Current', 'Spring 2023']\n",
            "['518', 'MS(BA)', '21L-7020', 'Zohair Altaf', 'M', '43', '43', '0', '43', '0', 'Current', 'Spring 2023']\n",
            "['519', 'MS(BA)', '21L-7021', 'Iman Ilyas', 'F', '43', '43', '0', '43', '0', 'Current', 'Spring 2023']\n",
            "['520', 'MS(BA)', '21L-7022', 'Haider Ali Shahid', 'M', '43', '43', '0', '43', '0', 'Current', 'Spring 2023']\n",
            "['521', 'MS(BA)', '21L-7023', 'Hammad Ahmad', 'M', '43', '43', '0', '43', '0', 'Current', 'Spring 2023']\n",
            "['522', 'MS(BA)', '21L-7028', 'Auneeb Hussain Usmani', 'M', '43', '43', '0', '43', '0', 'Current', 'Spring 2023']\n",
            "['523', 'MS(BA)', '21L-7030', 'Shayan Naeem', 'M', '43', '43', '0', '43', '0', 'Current', 'Spring 2023']\n",
            "['524', 'MS(BA)', '21L-7036', 'Aamir Mahmood', 'M', '43', '43', '0', '43', '0', 'Current', 'Spring 2023']\n",
            "['525', 'MS(BA)', '21L-7037', 'Ayesha Siddiqah', 'F', '43', '43', '0', '43', '0', 'Current', 'Spring 2023']\n",
            "['526', 'MS(BA)', '21L-7039', 'Khadija Aslam', 'F', '43', '43', '0', '43', '0', 'Current', 'Spring 2023']\n",
            "['527', 'MS(BA)', '21L-7040', 'Arfa Sarfraz', 'F', '43', '43', '0', '43', '0', 'Current', 'Spring 2023']\n",
            "['528', 'MS(BA)', '21L-7041', 'Kashuf Khurram', 'F', '43', '43', '0', '43', '0', 'Current', 'Spring 2023']\n",
            "['529', 'MS(BA)', '21L-7045', 'Muhammad Rehan Sarwar', 'M', '43', '43', '0', '43', '0', 'Current', 'Spring 2023']\n",
            "['530', 'MS(BA)', '21L-7047', 'Alishba Kaiser', 'M', '43', '43', '0', '43', '0', 'Current', 'Spring 2023']\n",
            "['531', 'MS(BA)', '21L-7048', 'Fatima Mumtaz', 'F', '43', '43', '0', '43', '0', 'Current', 'Spring 2023']\n",
            "['532', 'MS(BA)', '21L-7061', 'Maha Ehtesham', 'F', '43', '43', '0', '43', '0', 'Current', 'Spring 2023']\n",
            "['533', 'MS(BA)', '21L-7062', 'Bilal Nadeem Alam', 'M', '43', '43', '0', '43', '0', 'Current', 'Spring 2023']\n",
            "['534', 'MS(BA)', '21L-7063', 'Minahil Mubashar', 'F', '43', '43', '0', '43', '0', 'Current', 'Spring 2023']\n",
            "['535', 'MS(BA)', '21L-7064', 'Aiza Aftab', 'F', '43', '43', '0', '43', '0', 'Current', 'Spring 2023']\n",
            "['536', 'MS(BA)', '21L-7065', 'Muhammad Hashir', 'M', '43', '43', '0', '43', '0', 'Current', 'Spring 2023']\n",
            "['537', 'MS(BA)', '21L-7066', 'Syeda Shayan Zahra', 'F', '43', '43', '0', '43', '0', 'Current', 'Spring 2023']\n",
            "['538', 'MS(BA)', '22L-0046', 'Shahram Sohail', 'M', '34', '34', '0', '34', '0', 'Current', 'Spring 2023']\n",
            "['539', 'MS(BA)', '22L-0050', 'Muhammad Hadi', 'M', '34', '34', '0', '34', '0', 'Current', 'Spring 2023']\n",
            "['540', 'MS(BA)', '22L-0051', 'Mustaqeem Sajid', 'M', '34', '34', '0', '34', '0', 'Current', 'Spring 2023']\n",
            "['541', 'MS(CS)', '15L-5052', 'Mehwish Farasat', 'F', '31', '31', '0', '31', '0', 'Current', 'Spring 2018']\n",
            "['542', 'MS(CS)', '18L-1865', 'Muhammad Bilal Shahid', 'M', '31', '31', '0', '31', '0', 'Clearance', 'Spring 2022']\n",
            "['543', 'MS(CS)', '19L-1882', 'Mujtaba Hussain', 'M', '31', '31', '0', '31', '0', 'Clearance', 'Spring 2022']\n",
            "['544', 'MS(CS)', '20L-2282', 'Sidra Akhtar', 'F', '31', '31', '0', '31', '0', 'Clearance', 'Spring 2022']\n",
            "['545', 'MS(CS)', '19L-1820', 'Syed Muhammad Rawaha', 'M', '34', '31', '0', '31', '0', 'Current', 'Spring 2023']\n",
            "['546', 'MS(CS)', '19L-2590', 'Nimra Abbas', 'F', '28', '28', '3', '31', '0', 'Current', 'Spring 2023']\n",
            "['547', 'MS(CS)', '20L-2265', 'Samia Akhter', 'F', '34', '31', '0', '31', '0', 'Current', 'Spring 2023']\n",
            "['548', 'MS(CS)', '20L-2267', 'Asad Ullah', 'M', '31', '31', '0', '31', '0', 'Current', 'Spring 2023']\n",
            "['549', 'MS(CS)', '20L-2328', 'Umair Alam', 'M', '31', '31', '0', '31', '0', 'Current', 'Spring 2023']\n",
            "['550', 'MS(CS)', '18L-2120', 'Wajahat Ali Khan', 'M', '31', '28', '0', '28', '0', 'Current', 'Spring 2023']\n",
            "['551', 'MS(CS)', '19L-1809', 'Azka Liaqat', 'F', '31', '28', '0', '28', '0', 'Current', 'Spring 2023']\n",
            "['552', 'MS(CS)', '19L-2430', 'Tahreem Masood', 'F', '31', '28', '0', '28', '0', 'Current', 'Spring 2023']\n",
            "['553', 'MS(CS)', '19L-2434', 'Faiqa Yousaf', 'F', '31', '28', '0', '28', '0', 'Current', 'Spring 2023']\n",
            "['554', 'MS(CS)', '20L-2277', 'Zaeem Ahmed', 'M', '31', '28', '0', '28', '0', 'Current', 'Spring 2023']\n",
            "['555', 'MS(CS)', '20L-2285', 'Haiqa Saman', 'F', '31', '28', '0', '28', '0', 'Current', 'Spring 2023']\n",
            "['556', 'MS(CS)', '20L-2300', 'Saleha Batool', 'F', '31', '28', '0', '28', '0', 'Current', 'Spring 2023']\n",
            "['557', 'MS(CS)', '20L-2306', 'Sana Bari', 'F', '33', '30', '0', '30', '0', 'Current', 'Spring 2023']\n",
            "['558', 'MS(CS)', '20L-2323', 'Ruhma Aziz', 'F', '31', '28', '0', '28', '0', 'Current', 'Spring 2023']\n",
            "['559', 'MS(CS)', '20L-2334', 'Iram Shahzadi', 'F', '31', '28', '0', '28', '0', 'Current', 'Spring 2023']\n",
            "['560', 'MS(CS)', '21L-7202', 'Amna Saleem', 'F', '30', '27', '0', '27', '0', 'Current', 'Spring 2023']\n",
            "['561', 'MS(CS)', '21L-7204', 'Saba Tariq', 'F', '30', '27', '0', '27', '0', 'Current', 'Spring 2023']\n",
            "['562', 'MS(CS)', '21L-7205', 'Sana Ejaz', 'F', '30', '27', '0', '27', '0', 'Current', 'Spring 2023']\n",
            "['563', 'MS(CS)', '21L-7207', 'Rakhshan Imtiaz', 'F', '30', '27', '0', '27', '0', 'Current', 'Spring 2023']\n",
            "['564', 'MS(CS)', '21L-7212', 'Hassan Masood', 'M', '30', '27', '0', '27', '0', 'Current', 'Spring 2023']\n",
            "['565', 'MS(CS)', '21L-7214', 'Hafiz Muhammad Mudassir Saeed', 'M', '30', '27', '0', '27', '0', 'Current', 'Spring 2023']\n",
            "['566', 'MS(CS)', '21L-7218', 'Muhammad Saad Salman', 'M', '30', '27', '0', '27', '0', 'Current', 'Spring 2023']\n",
            "['567', 'MS(CS)', '21L-7229', 'Syed Mujtaba Hassan Rizvi', 'M', '30', '27', '0', '27', '0', 'Current', 'Spring 2023']\n",
            "['568', 'MS(CS)', '21L-7232', 'Muhammad Irtaza', 'M', '30', '27', '0', '27', '0', 'Current', 'Spring 2023']\n",
            "['569', 'MS(CS)', '21L-7258', 'Muhammad Adeel', 'M', '30', '27', '0', '27', '0', 'Current', 'Spring 2023']\n",
            "['570', 'MS(CV)', '18L-1759', 'Shahab Khan', 'M', '31', '31', '0', '31', '0', 'Clearance', 'Spring 2022']\n",
            "['571', 'MS(CV)', '19L-1755', 'Ali Mansoor', 'M', '31', '31', '0', '31', '0', 'Current', 'Spring 2023']\n",
            "['572', 'MS(CV)', '19L-1760', 'Hamza Farooq', 'M', '31', '31', '0', '31', '0', 'Current', 'Spring 2023']\n",
            "['573', 'MS(CV)', '19L-2608', 'Muhammad Sohaib Aslam', 'M', '34', '31', '0', '31', '0', 'Current', 'Spring 2023']\n",
            "['574', 'MS(CV)', '19L-2614', 'Awais Akram', 'M', '34', '34', '0', '34', '0', 'Current', 'Spring 2023']\n",
            "['575', 'MS(CV)', '20L-2411', 'Muhammad Hamza', 'M', '34', '34', '0', '34', '0', 'Current', 'Spring 2023']\n",
            "['576', 'MS(CV)', '20L-2413', 'Marvi Azhar', 'F', '37', '34', '0', '34', '0', 'Current', 'Spring 2023']\n",
            "['577', 'MS(CV)', '20L-2431', 'Muhammad Usman Ali', 'M', '34', '31', '0', '31', '0', 'Current', 'Spring 2023']\n",
            "['578', 'MS(CV)', '21L-7404', 'Muhammad Hurara', 'M', '30', '30', '0', '30', '0', 'Current', 'Spring 2023']\n",
            "['579', 'MS(CV)', '21L-7418', 'Ali Raza', 'M', '30', '30', '0', '30', '0', 'Current', 'Spring 2023']\n",
            "['580', 'MS(CV)', '21L-7433', 'Sachal Bin Ajmal', 'M', '30', '30', '0', '30', '0', 'Current', 'Spring 2023']\n",
            "['581', 'MS(CV)', '21L-7451', 'Amar Khalid', 'M', '30', '30', '0', '30', '0', 'Current', 'Spring 2023']\n",
            "['582', 'MS(CV)', '19L-2609', 'Muhammad Irfan Butt', 'M', '31', '28', '0', '28', '0', 'Current', 'Spring 2023']\n",
            "['583', 'MS(CV)', '19L-2611', 'Syed Ali Hasan', 'M', '34', '28', '0', '28', '0', 'Current', 'Spring 2023']\n",
            "['584', 'MS(CV)', '19L-2621', 'Muhammad Awais Saleem', 'M', '9', '6', '22', '28', '0', 'Current', 'Spring 2023']\n",
            "['585', 'MS(CV)', '20L-2444', 'Muhammad Inzamam Ul Haq Khan', 'M', '31', '28', '0', '28', '0', 'Current', 'Spring 2023']\n",
            "['586', 'MS(CV)', '21L-7054', 'Syed Muneeb Haider', 'M', '31', '28', '0', '28', '0', 'Current', 'Spring 2023']\n",
            "['587', 'MS(CV)', '21L-7436', 'Mahnoor Akram', 'F', '30', '27', '0', '27', '0', 'Current', 'Spring 2023']\n",
            "['588', 'MS(CV)', '22L-8245', 'Muhammad Waqas Ejaz', 'M', '19', '16', '12', '28', '0', 'Current', 'Spring 2023']\n",
            "['589', 'MS(DS)', '20L-2322', 'Haziqa Sajid', 'F', '28', '28', '6', '34', '0', 'Clearance', 'Spring 2022']\n",
            "['590', 'MS(DS)', '19L-2410', 'Ammar Amir Khan', 'M', '31', '31', '0', '31', '0', 'Current', 'Spring 2023']\n",
            "['591', 'MS(DS)', '20L-2370', 'Asif Ahsan', 'M', '34', '31', '0', '31', '0', 'Current', 'Spring 2023']\n",
            "['592', 'MS(DS)', '21L-7279', 'Anam Riaz', 'F', '30', '30', '0', '30', '0', 'Current', 'Spring 2023']\n",
            "['593', 'MS(DS)', '21L-7310', 'Bisma Nazir', 'F', '30', '30', '0', '30', '0', 'Current', 'Spring 2023']\n",
            "['594', 'MS(DS)', '21L-7313', 'Asbah Khalid', 'F', '30', '30', '0', '30', '0', 'Current', 'Spring 2023']\n",
            "['595', 'MS(DS)', '21L-7322', 'Muaaz Arif Rasul', 'M', '30', '30', '0', '30', '0', 'Current', 'Spring 2023']\n",
            "['596', 'MS(DS)', '18L-1883', 'Javeria Ilyas', 'F', '31', '28', '0', '28', '0', 'Current', 'Spring 2023']\n",
            "['597', 'MS(DS)', '19K-0867', 'Muhammad Ammad Hassan', 'M', '31', '28', '0', '28', '0', 'Current', 'Spring 2023']\n",
            "['598', 'MS(DS)', '19L-1829', 'Salman Rasheed', 'M', '33', '30', '0', '30', '0', 'Current', 'Spring 2023']\n",
            "['599', 'MS(DS)', '19L-1854', 'Omar Farooq', 'M', '31', '28', '0', '28', '0', 'Current', 'Spring 2023']\n",
            "['600', 'MS(DS)', '19L-2448', 'Hamza Yousuf', 'M', '31', '28', '0', '28', '0', 'Current', 'Spring 2023']\n",
            "['601', 'MS(DS)', '20L-2253', 'Azan Waqar', 'M', '31', '28', '0', '28', '0', 'Current', 'Spring 2023']\n",
            "['602', 'MS(DS)', '20L-2302', 'Armeen Ashraf Khan', 'M', '31', '28', '0', '28', '0', 'Current', 'Spring 2023']\n",
            "['603', 'MS(DS)', '20L-2317', 'Abdul Rafey Tahir', 'M', '34', '28', '0', '28', '0', 'Current', 'Spring 2023']\n",
            "['604', 'MS(DS)', '20L-2361', 'Ali Abdullah Khan', 'M', '31', '28', '0', '28', '0', 'Current', 'Spring 2023']\n",
            "['605', 'MS(DS)', '21L-7275', 'Syed Muhammad Sahil Mohsin', 'M', '30', '27', '0', '27', '0', 'Current', 'Spring 2023']\n",
            "['606', 'MS(DS)', '21L-7276', 'Hamza Mustafa', 'M', '30', '27', '0', '27', '0', 'Current', 'Spring 2023']\n",
            "['607', 'MS(DS)', '21L-7292', 'Muhammad Aiss Shahid', 'M', '30', '27', '0', '27', '0', 'Current', 'Spring 2023']\n",
            "['608', 'MS(DS)', '21L-7302', 'Hafiz Hassan Rehman', 'M', '30', '27', '0', '27', '0', 'Current', 'Spring 2023']\n",
            "['609', 'MS(DS)', '21L-7319', 'Muhammad Ali', 'M', '30', '27', '0', '27', '0', 'Current', 'Spring 2023']\n",
            "['610', 'MS(DS)', '21L-7320', 'Kinza Shahzad', 'F', '30', '27', '0', '27', '0', 'Current', 'Spring 2023']\n",
            "['611', 'MS(DS)', '21L-7324', 'Faiqa Ashraf', 'F', '30', '24', '0', '24', '0', 'Current', 'Spring 2023']\n",
            "['612', 'MS(EE)', '17L-5188', 'Muhammad Bilal', 'M', '31', '31', '0', '31', '0', 'Clearance', 'Fall 2020']\n",
            "['613', 'MS(Ling)', '20L-2608', 'Sadia Tahir', 'F', '30', '27', '0', '27', '0', 'Current', 'Spring 2023']\n",
            "['614', 'MS(Ling)', '20L-2612', 'Radiya Rani', 'F', '30', '27', '0', '27', '0', 'Current', 'Spring 2023']\n",
            "['615', 'MS(Ling)', '21L-7901', 'Rabiya Rizwan', 'F', '30', '27', '0', '27', '0', 'Current', 'Spring 2023']\n",
            "['616', 'MS(Ling)', '21L-7902', 'Hafiza Iqra Abadullah', 'F', '30', '27', '0', '27', '0', 'Current', 'Spring 2023']\n",
            "['617', 'MS(Ling)', '21L-7903', 'Shehar Bano', 'F', '30', '27', '0', '27', '0', 'Current', 'Spring 2023']\n",
            "['618', 'MS(Ling)', '21L-7904', 'Hasanat Ahmad', 'M', '30', '27', '0', '27', '0', 'Current', 'Spring 2023']\n",
            "['619', 'MS(Ling)', '21L-7905', 'Areeba Naseer', 'F', '30', '27', '0', '27', '0', 'Current', 'Spring 2023']\n",
            "['620', 'MS(Ling)', '21L-7906', 'Maryam Khalid', 'F', '30', '27', '0', '27', '0', 'Current', 'Spring 2023']\n",
            "['621', 'MS(Ling)', '21L-7907', 'Rafia Dastgir', 'F', '30', '27', '0', '27', '0', 'Current', 'Spring 2023']\n",
            "['622', 'MS(Ling)', '21L-7908', 'Umm-E-Aiman', 'F', '30', '27', '0', '27', '0', 'Current', 'Spring 2023']\n",
            "['623', 'MS(Ling)', '21L-7909', 'Saleha Amin', 'F', '30', '27', '0', '27', '0', 'Current', 'Spring 2023']\n",
            "['624', 'MS(Ling)', '21L-7910', 'Waqas Jani', 'M', '30', '27', '0', '27', '0', 'Current', 'Spring 2023']\n",
            "['625', 'MS(Ling)', '21L-7911', 'Attiqa Bano', 'F', '30', '27', '0', '27', '0', 'Current', 'Spring 2023']\n",
            "['626', 'MS(Ling)', '21L-7912', 'Nokhaiz Zahra', 'F', '30', '27', '0', '27', '0', 'Current', 'Spring 2023']\n",
            "['627', 'MS(Math)', '20L-1954', 'Mudassar Ali', 'M', '28', '31', '0', '31', '0', 'Current', 'Fall 2022']\n",
            "['628', 'MS(Math)', '20L-1967', 'Muhammad Husnain Mumtaz', 'M', '31', '31', '0', '31', '0', 'Current', 'Spring 2023']\n",
            "['629', 'MS(SPM)', '19L-2007', 'Adeela Rashid', 'F', '31', '31', '0', '31', '0', 'Current', 'Spring 2023']\n",
            "['630', 'MS(SPM)', '19L-2014', 'Haroon Ahmed Sheikh', 'M', '31', '31', '0', '31', '0', 'Current', 'Spring 2023']\n",
            "['631', 'MS(SPM)', '19L-2017', 'Mati Ur Rehman', 'M', '34', '31', '0', '31', '0', 'Current', 'Spring 2023']\n",
            "['632', 'MS(SPM)', '19L-2046', 'Munaim Ashraf', 'M', '31', '31', '0', '31', '0', 'Current', 'Spring 2023']\n",
            "['633', 'MS(SPM)', '20L-2662', 'Wasif Halim', 'M', '31', '31', '0', '31', '0', 'Current', 'Spring 2023']\n",
            "['634', 'MS(SPM)', '20L-2673', 'Ali Mamoon Rizwan', 'M', '31', '31', '0', '31', '0', 'Current', 'Spring 2023']\n",
            "['635', 'PhD(CS)', '15L-5360', 'Afzaal Hussain', 'M', '42', '42', '0', '42', '0', 'Current', 'Spring 2023']\n"
          ]
        }
      ]
    },
    {
      "cell_type": "code",
      "source": [
        "# Print the first row\n",
        "data[1]"
      ],
      "metadata": {
        "colab": {
          "base_uri": "https://localhost:8080/"
        },
        "id": "GZwf4z856oG2",
        "outputId": "8a1ec959-d789-4b03-db20-fd1da39749aa"
      },
      "execution_count": null,
      "outputs": [
        {
          "output_type": "execute_result",
          "data": {
            "text/plain": [
              "['1',\n",
              " 'BBA',\n",
              " '17L-4954',\n",
              " 'Muhammad Ahmed Sajid',\n",
              " 'M',\n",
              " '130',\n",
              " '130',\n",
              " '0',\n",
              " '130',\n",
              " '0',\n",
              " 'Current',\n",
              " 'Spring 2023']"
            ]
          },
          "metadata": {},
          "execution_count": 67
        }
      ]
    },
    {
      "cell_type": "code",
      "source": [
        "import numpy as np\n",
        "data_array = np.array(data)"
      ],
      "metadata": {
        "id": "3Wn9tJdi6ynh"
      },
      "execution_count": null,
      "outputs": []
    },
    {
      "cell_type": "markdown",
      "source": [
        "### **Using Pandas Dataframe**"
      ],
      "metadata": {
        "id": "xde4zaHM8ECs"
      }
    },
    {
      "cell_type": "code",
      "source": [
        "import pandas as pd\n",
        "file_path = '/content/drive/MyDrive/data/file.csv'\n",
        "data_pd = pd.read_csv(file_path)\n",
        "data_pd.head()"
      ],
      "metadata": {
        "colab": {
          "base_uri": "https://localhost:8080/",
          "height": 206
        },
        "id": "eYgHAp1i8Gal",
        "outputId": "25ceabf4-72c2-4704-d92f-45cc2c5f2bb6"
      },
      "execution_count": null,
      "outputs": [
        {
          "output_type": "execute_result",
          "data": {
            "text/plain": [
              "   Sr.# Program   Roll No                       Name Gender  Cr. Attp  \\\n",
              "0     1     BBA  17L-4954       Muhammad Ahmed Sajid      M       130   \n",
              "1     2     BBA  18L-0017                 Fatima Zeb      F       130   \n",
              "2     3     BBA  18L-0056  Muhammad Talal Bin Yassar      M       130   \n",
              "3     4     BBA  18L-0081               Mohsin Tariq      M       130   \n",
              "4     5     BBA  18L-0141        Muhammad Irfan Asif      M       130   \n",
              "\n",
              "   Cr. Earn  Cr. Exmp  Cr. Comp  Warning   Status     Last Sem  \n",
              "0       130         0       130        0  Current  Spring 2023  \n",
              "1       130         0       130        0  Current  Spring 2023  \n",
              "2       130         0       130        0  Current  Spring 2023  \n",
              "3       130         0       130        0  Current  Spring 2023  \n",
              "4       130         0       130        0  Current  Spring 2023  "
            ],
            "text/html": [
              "\n",
              "\n",
              "  <div id=\"df-872e745d-6b1b-45f6-bf80-e210af7b3dbd\">\n",
              "    <div class=\"colab-df-container\">\n",
              "      <div>\n",
              "<style scoped>\n",
              "    .dataframe tbody tr th:only-of-type {\n",
              "        vertical-align: middle;\n",
              "    }\n",
              "\n",
              "    .dataframe tbody tr th {\n",
              "        vertical-align: top;\n",
              "    }\n",
              "\n",
              "    .dataframe thead th {\n",
              "        text-align: right;\n",
              "    }\n",
              "</style>\n",
              "<table border=\"1\" class=\"dataframe\">\n",
              "  <thead>\n",
              "    <tr style=\"text-align: right;\">\n",
              "      <th></th>\n",
              "      <th>Sr.#</th>\n",
              "      <th>Program</th>\n",
              "      <th>Roll No</th>\n",
              "      <th>Name</th>\n",
              "      <th>Gender</th>\n",
              "      <th>Cr. Attp</th>\n",
              "      <th>Cr. Earn</th>\n",
              "      <th>Cr. Exmp</th>\n",
              "      <th>Cr. Comp</th>\n",
              "      <th>Warning</th>\n",
              "      <th>Status</th>\n",
              "      <th>Last Sem</th>\n",
              "    </tr>\n",
              "  </thead>\n",
              "  <tbody>\n",
              "    <tr>\n",
              "      <th>0</th>\n",
              "      <td>1</td>\n",
              "      <td>BBA</td>\n",
              "      <td>17L-4954</td>\n",
              "      <td>Muhammad Ahmed Sajid</td>\n",
              "      <td>M</td>\n",
              "      <td>130</td>\n",
              "      <td>130</td>\n",
              "      <td>0</td>\n",
              "      <td>130</td>\n",
              "      <td>0</td>\n",
              "      <td>Current</td>\n",
              "      <td>Spring 2023</td>\n",
              "    </tr>\n",
              "    <tr>\n",
              "      <th>1</th>\n",
              "      <td>2</td>\n",
              "      <td>BBA</td>\n",
              "      <td>18L-0017</td>\n",
              "      <td>Fatima Zeb</td>\n",
              "      <td>F</td>\n",
              "      <td>130</td>\n",
              "      <td>130</td>\n",
              "      <td>0</td>\n",
              "      <td>130</td>\n",
              "      <td>0</td>\n",
              "      <td>Current</td>\n",
              "      <td>Spring 2023</td>\n",
              "    </tr>\n",
              "    <tr>\n",
              "      <th>2</th>\n",
              "      <td>3</td>\n",
              "      <td>BBA</td>\n",
              "      <td>18L-0056</td>\n",
              "      <td>Muhammad Talal Bin Yassar</td>\n",
              "      <td>M</td>\n",
              "      <td>130</td>\n",
              "      <td>130</td>\n",
              "      <td>0</td>\n",
              "      <td>130</td>\n",
              "      <td>0</td>\n",
              "      <td>Current</td>\n",
              "      <td>Spring 2023</td>\n",
              "    </tr>\n",
              "    <tr>\n",
              "      <th>3</th>\n",
              "      <td>4</td>\n",
              "      <td>BBA</td>\n",
              "      <td>18L-0081</td>\n",
              "      <td>Mohsin Tariq</td>\n",
              "      <td>M</td>\n",
              "      <td>130</td>\n",
              "      <td>130</td>\n",
              "      <td>0</td>\n",
              "      <td>130</td>\n",
              "      <td>0</td>\n",
              "      <td>Current</td>\n",
              "      <td>Spring 2023</td>\n",
              "    </tr>\n",
              "    <tr>\n",
              "      <th>4</th>\n",
              "      <td>5</td>\n",
              "      <td>BBA</td>\n",
              "      <td>18L-0141</td>\n",
              "      <td>Muhammad Irfan Asif</td>\n",
              "      <td>M</td>\n",
              "      <td>130</td>\n",
              "      <td>130</td>\n",
              "      <td>0</td>\n",
              "      <td>130</td>\n",
              "      <td>0</td>\n",
              "      <td>Current</td>\n",
              "      <td>Spring 2023</td>\n",
              "    </tr>\n",
              "  </tbody>\n",
              "</table>\n",
              "</div>\n",
              "      <button class=\"colab-df-convert\" onclick=\"convertToInteractive('df-872e745d-6b1b-45f6-bf80-e210af7b3dbd')\"\n",
              "              title=\"Convert this dataframe to an interactive table.\"\n",
              "              style=\"display:none;\">\n",
              "\n",
              "  <svg xmlns=\"http://www.w3.org/2000/svg\" height=\"24px\"viewBox=\"0 0 24 24\"\n",
              "       width=\"24px\">\n",
              "    <path d=\"M0 0h24v24H0V0z\" fill=\"none\"/>\n",
              "    <path d=\"M18.56 5.44l.94 2.06.94-2.06 2.06-.94-2.06-.94-.94-2.06-.94 2.06-2.06.94zm-11 1L8.5 8.5l.94-2.06 2.06-.94-2.06-.94L8.5 2.5l-.94 2.06-2.06.94zm10 10l.94 2.06.94-2.06 2.06-.94-2.06-.94-.94-2.06-.94 2.06-2.06.94z\"/><path d=\"M17.41 7.96l-1.37-1.37c-.4-.4-.92-.59-1.43-.59-.52 0-1.04.2-1.43.59L10.3 9.45l-7.72 7.72c-.78.78-.78 2.05 0 2.83L4 21.41c.39.39.9.59 1.41.59.51 0 1.02-.2 1.41-.59l7.78-7.78 2.81-2.81c.8-.78.8-2.07 0-2.86zM5.41 20L4 18.59l7.72-7.72 1.47 1.35L5.41 20z\"/>\n",
              "  </svg>\n",
              "      </button>\n",
              "\n",
              "\n",
              "\n",
              "    <div id=\"df-ed668e2d-16bf-4d70-bc35-143c13cec13d\">\n",
              "      <button class=\"colab-df-quickchart\" onclick=\"quickchart('df-ed668e2d-16bf-4d70-bc35-143c13cec13d')\"\n",
              "              title=\"Suggest charts.\"\n",
              "              style=\"display:none;\">\n",
              "\n",
              "<svg xmlns=\"http://www.w3.org/2000/svg\" height=\"24px\"viewBox=\"0 0 24 24\"\n",
              "     width=\"24px\">\n",
              "    <g>\n",
              "        <path d=\"M19 3H5c-1.1 0-2 .9-2 2v14c0 1.1.9 2 2 2h14c1.1 0 2-.9 2-2V5c0-1.1-.9-2-2-2zM9 17H7v-7h2v7zm4 0h-2V7h2v10zm4 0h-2v-4h2v4z\"/>\n",
              "    </g>\n",
              "</svg>\n",
              "      </button>\n",
              "    </div>\n",
              "\n",
              "<style>\n",
              "  .colab-df-quickchart {\n",
              "    background-color: #E8F0FE;\n",
              "    border: none;\n",
              "    border-radius: 50%;\n",
              "    cursor: pointer;\n",
              "    display: none;\n",
              "    fill: #1967D2;\n",
              "    height: 32px;\n",
              "    padding: 0 0 0 0;\n",
              "    width: 32px;\n",
              "  }\n",
              "\n",
              "  .colab-df-quickchart:hover {\n",
              "    background-color: #E2EBFA;\n",
              "    box-shadow: 0px 1px 2px rgba(60, 64, 67, 0.3), 0px 1px 3px 1px rgba(60, 64, 67, 0.15);\n",
              "    fill: #174EA6;\n",
              "  }\n",
              "\n",
              "  [theme=dark] .colab-df-quickchart {\n",
              "    background-color: #3B4455;\n",
              "    fill: #D2E3FC;\n",
              "  }\n",
              "\n",
              "  [theme=dark] .colab-df-quickchart:hover {\n",
              "    background-color: #434B5C;\n",
              "    box-shadow: 0px 1px 3px 1px rgba(0, 0, 0, 0.15);\n",
              "    filter: drop-shadow(0px 1px 2px rgba(0, 0, 0, 0.3));\n",
              "    fill: #FFFFFF;\n",
              "  }\n",
              "</style>\n",
              "\n",
              "    <script>\n",
              "      async function quickchart(key) {\n",
              "        const containerElement = document.querySelector('#' + key);\n",
              "        const charts = await google.colab.kernel.invokeFunction(\n",
              "            'suggestCharts', [key], {});\n",
              "      }\n",
              "    </script>\n",
              "\n",
              "      <script>\n",
              "\n",
              "function displayQuickchartButton(domScope) {\n",
              "  let quickchartButtonEl =\n",
              "    domScope.querySelector('#df-ed668e2d-16bf-4d70-bc35-143c13cec13d button.colab-df-quickchart');\n",
              "  quickchartButtonEl.style.display =\n",
              "    google.colab.kernel.accessAllowed ? 'block' : 'none';\n",
              "}\n",
              "\n",
              "        displayQuickchartButton(document);\n",
              "      </script>\n",
              "      <style>\n",
              "    .colab-df-container {\n",
              "      display:flex;\n",
              "      flex-wrap:wrap;\n",
              "      gap: 12px;\n",
              "    }\n",
              "\n",
              "    .colab-df-convert {\n",
              "      background-color: #E8F0FE;\n",
              "      border: none;\n",
              "      border-radius: 50%;\n",
              "      cursor: pointer;\n",
              "      display: none;\n",
              "      fill: #1967D2;\n",
              "      height: 32px;\n",
              "      padding: 0 0 0 0;\n",
              "      width: 32px;\n",
              "    }\n",
              "\n",
              "    .colab-df-convert:hover {\n",
              "      background-color: #E2EBFA;\n",
              "      box-shadow: 0px 1px 2px rgba(60, 64, 67, 0.3), 0px 1px 3px 1px rgba(60, 64, 67, 0.15);\n",
              "      fill: #174EA6;\n",
              "    }\n",
              "\n",
              "    [theme=dark] .colab-df-convert {\n",
              "      background-color: #3B4455;\n",
              "      fill: #D2E3FC;\n",
              "    }\n",
              "\n",
              "    [theme=dark] .colab-df-convert:hover {\n",
              "      background-color: #434B5C;\n",
              "      box-shadow: 0px 1px 3px 1px rgba(0, 0, 0, 0.15);\n",
              "      filter: drop-shadow(0px 1px 2px rgba(0, 0, 0, 0.3));\n",
              "      fill: #FFFFFF;\n",
              "    }\n",
              "  </style>\n",
              "\n",
              "      <script>\n",
              "        const buttonEl =\n",
              "          document.querySelector('#df-872e745d-6b1b-45f6-bf80-e210af7b3dbd button.colab-df-convert');\n",
              "        buttonEl.style.display =\n",
              "          google.colab.kernel.accessAllowed ? 'block' : 'none';\n",
              "\n",
              "        async function convertToInteractive(key) {\n",
              "          const element = document.querySelector('#df-872e745d-6b1b-45f6-bf80-e210af7b3dbd');\n",
              "          const dataTable =\n",
              "            await google.colab.kernel.invokeFunction('convertToInteractive',\n",
              "                                                     [key], {});\n",
              "          if (!dataTable) return;\n",
              "\n",
              "          const docLinkHtml = 'Like what you see? Visit the ' +\n",
              "            '<a target=\"_blank\" href=https://colab.research.google.com/notebooks/data_table.ipynb>data table notebook</a>'\n",
              "            + ' to learn more about interactive tables.';\n",
              "          element.innerHTML = '';\n",
              "          dataTable['output_type'] = 'display_data';\n",
              "          await google.colab.output.renderOutput(dataTable, element);\n",
              "          const docLink = document.createElement('div');\n",
              "          docLink.innerHTML = docLinkHtml;\n",
              "          element.appendChild(docLink);\n",
              "        }\n",
              "      </script>\n",
              "    </div>\n",
              "  </div>\n"
            ]
          },
          "metadata": {},
          "execution_count": 73
        }
      ]
    },
    {
      "cell_type": "code",
      "source": [
        "# Plot a graph for Cr.Attp column in the csv file\n",
        "data_pd['Cr. Attp'].plot()"
      ],
      "metadata": {
        "colab": {
          "base_uri": "https://localhost:8080/",
          "height": 448
        },
        "id": "G4CaG6_Y8j5w",
        "outputId": "5542b3b4-2bcc-467d-d64f-6a1ac63a19c7"
      },
      "execution_count": null,
      "outputs": [
        {
          "output_type": "execute_result",
          "data": {
            "text/plain": [
              "<Axes: >"
            ]
          },
          "metadata": {},
          "execution_count": 77
        },
        {
          "output_type": "display_data",
          "data": {
            "text/plain": [
              "<Figure size 640x480 with 1 Axes>"
            ],
            "image/png": "[encoded data removed]"
          },
          "metadata": {}
        }
      ]
    },
    {
      "cell_type": "markdown",
      "source": [
        "# **Lecture 4**\n",
        "## **Valuing Securities**"
      ],
      "metadata": {
        "id": "jRfeToadmaSM"
      }
    },
    {
      "cell_type": "code",
      "source": [
        "import numpy as np\n",
        "import pandas as pd\n",
        "import matplotlib.pyplot as plt\n",
        "%matplotlib inline"
      ],
      "metadata": {
        "id": "3Gb5dqNDmkK7"
      },
      "execution_count": null,
      "outputs": []
    },
    {
      "cell_type": "code",
      "source": [
        "# Expected return\n",
        "dividend = 2.92\n",
        "stock_worth_now = 152.60\n",
        "stock_worth_later = 178.71\n",
        "expected_return = (dividend + stock_worth_later) / stock_worth_now\n",
        "print(\"Expected Result: {}\".format(expected_return - 1))\n",
        "\n",
        "present_value = (dividend + stock_worth_later) / expected_return\n",
        "print(\"Current value: {}\".format(present_value))"
      ],
      "metadata": {
        "colab": {
          "base_uri": "https://localhost:8080/"
        },
        "id": "UUC2ltaInATo",
        "outputId": "6e3a08a3-f00c-4487-e512-b069c8d7f088"
      },
      "execution_count": null,
      "outputs": [
        {
          "output_type": "stream",
          "name": "stdout",
          "text": [
            "Expected Result: 0.19023591087811265\n",
            "Current value: 152.6\n"
          ]
        }
      ]
    },
    {
      "cell_type": "code",
      "source": [
        "# Dividend Discount Model\n",
        "growth = 0.08\n",
        "expected_return = 0.12\n",
        "stock_worth_later = 81\n",
        "dividend = 3\n",
        "horizon = pd.DataFrame({'dividend' : np.zeros(3), 'expected_price' : np.zeros(3)})\n",
        "horizon.index = np.arange(1, len(horizon) + 1)\n",
        "horizon.index.name = 'Year'\n",
        "for year in range(1, horizon['dividend'].count() + 1):\n",
        "  if year == 1:\n",
        "    horizon['dividend'][year] = dividend\n",
        "    horizon['expected_price'][year] = stock_worth_later\n",
        "  else:\n",
        "    horizon['dividend'][year] = dividend * (1 + growth) ** (year - 1)\n",
        "    horizon['expected_price'][year] = stock_worth_later * (1 + growth) ** (year - 1)\n"
      ],
      "metadata": {
        "id": "Q8P3O0iXnAb7"
      },
      "execution_count": null,
      "outputs": []
    },
    {
      "cell_type": "code",
      "source": [
        "horizon"
      ],
      "metadata": {
        "colab": {
          "base_uri": "https://localhost:8080/",
          "height": 175
        },
        "id": "cAdNWUh0pl2O",
        "outputId": "1f1f66e7-f04b-48af-f002-aac8f2c3319e"
      },
      "execution_count": null,
      "outputs": [
        {
          "output_type": "execute_result",
          "data": {
            "text/plain": [
              "      dividend  expected_price\n",
              "Year                          \n",
              "1       3.0000         81.0000\n",
              "2       3.2400         87.4800\n",
              "3       3.4992         94.4784"
            ],
            "text/html": [
              "\n",
              "\n",
              "  <div id=\"df-ad1ffc30-5447-49d1-ad67-8987fec29ac3\">\n",
              "    <div class=\"colab-df-container\">\n",
              "      <div>\n",
              "<style scoped>\n",
              "    .dataframe tbody tr th:only-of-type {\n",
              "        vertical-align: middle;\n",
              "    }\n",
              "\n",
              "    .dataframe tbody tr th {\n",
              "        vertical-align: top;\n",
              "    }\n",
              "\n",
              "    .dataframe thead th {\n",
              "        text-align: right;\n",
              "    }\n",
              "</style>\n",
              "<table border=\"1\" class=\"dataframe\">\n",
              "  <thead>\n",
              "    <tr style=\"text-align: right;\">\n",
              "      <th></th>\n",
              "      <th>dividend</th>\n",
              "      <th>expected_price</th>\n",
              "    </tr>\n",
              "    <tr>\n",
              "      <th>Year</th>\n",
              "      <th></th>\n",
              "      <th></th>\n",
              "    </tr>\n",
              "  </thead>\n",
              "  <tbody>\n",
              "    <tr>\n",
              "      <th>1</th>\n",
              "      <td>3.0000</td>\n",
              "      <td>81.0000</td>\n",
              "    </tr>\n",
              "    <tr>\n",
              "      <th>2</th>\n",
              "      <td>3.2400</td>\n",
              "      <td>87.4800</td>\n",
              "    </tr>\n",
              "    <tr>\n",
              "      <th>3</th>\n",
              "      <td>3.4992</td>\n",
              "      <td>94.4784</td>\n",
              "    </tr>\n",
              "  </tbody>\n",
              "</table>\n",
              "</div>\n",
              "      <button class=\"colab-df-convert\" onclick=\"convertToInteractive('df-ad1ffc30-5447-49d1-ad67-8987fec29ac3')\"\n",
              "              title=\"Convert this dataframe to an interactive table.\"\n",
              "              style=\"display:none;\">\n",
              "\n",
              "  <svg xmlns=\"http://www.w3.org/2000/svg\" height=\"24px\"viewBox=\"0 0 24 24\"\n",
              "       width=\"24px\">\n",
              "    <path d=\"M0 0h24v24H0V0z\" fill=\"none\"/>\n",
              "    <path d=\"M18.56 5.44l.94 2.06.94-2.06 2.06-.94-2.06-.94-.94-2.06-.94 2.06-2.06.94zm-11 1L8.5 8.5l.94-2.06 2.06-.94-2.06-.94L8.5 2.5l-.94 2.06-2.06.94zm10 10l.94 2.06.94-2.06 2.06-.94-2.06-.94-.94-2.06-.94 2.06-2.06.94z\"/><path d=\"M17.41 7.96l-1.37-1.37c-.4-.4-.92-.59-1.43-.59-.52 0-1.04.2-1.43.59L10.3 9.45l-7.72 7.72c-.78.78-.78 2.05 0 2.83L4 21.41c.39.39.9.59 1.41.59.51 0 1.02-.2 1.41-.59l7.78-7.78 2.81-2.81c.8-.78.8-2.07 0-2.86zM5.41 20L4 18.59l7.72-7.72 1.47 1.35L5.41 20z\"/>\n",
              "  </svg>\n",
              "      </button>\n",
              "\n",
              "\n",
              "\n",
              "    <div id=\"df-d4a4d570-5756-407d-ba86-73133565b32f\">\n",
              "      <button class=\"colab-df-quickchart\" onclick=\"quickchart('df-d4a4d570-5756-407d-ba86-73133565b32f')\"\n",
              "              title=\"Suggest charts.\"\n",
              "              style=\"display:none;\">\n",
              "\n",
              "<svg xmlns=\"http://www.w3.org/2000/svg\" height=\"24px\"viewBox=\"0 0 24 24\"\n",
              "     width=\"24px\">\n",
              "    <g>\n",
              "        <path d=\"M19 3H5c-1.1 0-2 .9-2 2v14c0 1.1.9 2 2 2h14c1.1 0 2-.9 2-2V5c0-1.1-.9-2-2-2zM9 17H7v-7h2v7zm4 0h-2V7h2v10zm4 0h-2v-4h2v4z\"/>\n",
              "    </g>\n",
              "</svg>\n",
              "      </button>\n",
              "    </div>\n",
              "\n",
              "<style>\n",
              "  .colab-df-quickchart {\n",
              "    background-color: #E8F0FE;\n",
              "    border: none;\n",
              "    border-radius: 50%;\n",
              "    cursor: pointer;\n",
              "    display: none;\n",
              "    fill: #1967D2;\n",
              "    height: 32px;\n",
              "    padding: 0 0 0 0;\n",
              "    width: 32px;\n",
              "  }\n",
              "\n",
              "  .colab-df-quickchart:hover {\n",
              "    background-color: #E2EBFA;\n",
              "    box-shadow: 0px 1px 2px rgba(60, 64, 67, 0.3), 0px 1px 3px 1px rgba(60, 64, 67, 0.15);\n",
              "    fill: #174EA6;\n",
              "  }\n",
              "\n",
              "  [theme=dark] .colab-df-quickchart {\n",
              "    background-color: #3B4455;\n",
              "    fill: #D2E3FC;\n",
              "  }\n",
              "\n",
              "  [theme=dark] .colab-df-quickchart:hover {\n",
              "    background-color: #434B5C;\n",
              "    box-shadow: 0px 1px 3px 1px rgba(0, 0, 0, 0.15);\n",
              "    filter: drop-shadow(0px 1px 2px rgba(0, 0, 0, 0.3));\n",
              "    fill: #FFFFFF;\n",
              "  }\n",
              "</style>\n",
              "\n",
              "    <script>\n",
              "      async function quickchart(key) {\n",
              "        const containerElement = document.querySelector('#' + key);\n",
              "        const charts = await google.colab.kernel.invokeFunction(\n",
              "            'suggestCharts', [key], {});\n",
              "      }\n",
              "    </script>\n",
              "\n",
              "      <script>\n",
              "\n",
              "function displayQuickchartButton(domScope) {\n",
              "  let quickchartButtonEl =\n",
              "    domScope.querySelector('#df-d4a4d570-5756-407d-ba86-73133565b32f button.colab-df-quickchart');\n",
              "  quickchartButtonEl.style.display =\n",
              "    google.colab.kernel.accessAllowed ? 'block' : 'none';\n",
              "}\n",
              "\n",
              "        displayQuickchartButton(document);\n",
              "      </script>\n",
              "      <style>\n",
              "    .colab-df-container {\n",
              "      display:flex;\n",
              "      flex-wrap:wrap;\n",
              "      gap: 12px;\n",
              "    }\n",
              "\n",
              "    .colab-df-convert {\n",
              "      background-color: #E8F0FE;\n",
              "      border: none;\n",
              "      border-radius: 50%;\n",
              "      cursor: pointer;\n",
              "      display: none;\n",
              "      fill: #1967D2;\n",
              "      height: 32px;\n",
              "      padding: 0 0 0 0;\n",
              "      width: 32px;\n",
              "    }\n",
              "\n",
              "    .colab-df-convert:hover {\n",
              "      background-color: #E2EBFA;\n",
              "      box-shadow: 0px 1px 2px rgba(60, 64, 67, 0.3), 0px 1px 3px 1px rgba(60, 64, 67, 0.15);\n",
              "      fill: #174EA6;\n",
              "    }\n",
              "\n",
              "    [theme=dark] .colab-df-convert {\n",
              "      background-color: #3B4455;\n",
              "      fill: #D2E3FC;\n",
              "    }\n",
              "\n",
              "    [theme=dark] .colab-df-convert:hover {\n",
              "      background-color: #434B5C;\n",
              "      box-shadow: 0px 1px 3px 1px rgba(0, 0, 0, 0.15);\n",
              "      filter: drop-shadow(0px 1px 2px rgba(0, 0, 0, 0.3));\n",
              "      fill: #FFFFFF;\n",
              "    }\n",
              "  </style>\n",
              "\n",
              "      <script>\n",
              "        const buttonEl =\n",
              "          document.querySelector('#df-ad1ffc30-5447-49d1-ad67-8987fec29ac3 button.colab-df-convert');\n",
              "        buttonEl.style.display =\n",
              "          google.colab.kernel.accessAllowed ? 'block' : 'none';\n",
              "\n",
              "        async function convertToInteractive(key) {\n",
              "          const element = document.querySelector('#df-ad1ffc30-5447-49d1-ad67-8987fec29ac3');\n",
              "          const dataTable =\n",
              "            await google.colab.kernel.invokeFunction('convertToInteractive',\n",
              "                                                     [key], {});\n",
              "          if (!dataTable) return;\n",
              "\n",
              "          const docLinkHtml = 'Like what you see? Visit the ' +\n",
              "            '<a target=\"_blank\" href=https://colab.research.google.com/notebooks/data_table.ipynb>data table notebook</a>'\n",
              "            + ' to learn more about interactive tables.';\n",
              "          element.innerHTML = '';\n",
              "          dataTable['output_type'] = 'display_data';\n",
              "          await google.colab.output.renderOutput(dataTable, element);\n",
              "          const docLink = document.createElement('div');\n",
              "          docLink.innerHTML = docLinkHtml;\n",
              "          element.appendChild(docLink);\n",
              "        }\n",
              "      </script>\n",
              "    </div>\n",
              "  </div>\n"
            ]
          },
          "metadata": {},
          "execution_count": 6
        }
      ]
    },
    {
      "cell_type": "code",
      "source": [
        "# Check what the stock will be be worth now\n",
        "(horizon['dividend'][1] + horizon['expected_price'][1]) / (1 + expected_return)"
      ],
      "metadata": {
        "colab": {
          "base_uri": "https://localhost:8080/"
        },
        "id": "4bThqUt-p4W8",
        "outputId": "3e00675a-3b21-424f-9fda-8164883e3f94"
      },
      "execution_count": null,
      "outputs": [
        {
          "output_type": "execute_result",
          "data": {
            "text/plain": [
              "74.99999999999999"
            ]
          },
          "metadata": {},
          "execution_count": 10
        }
      ]
    },
    {
      "cell_type": "code",
      "source": [
        "# Check what the stock will be be worth in two years from now\n",
        "(horizon['dividend'][1] + horizon['expected_price'][1] / (1 + expected_return) + (horizon['dividend'][2] + horizon['expected_price'][2]) / (1 + expected_return) ** 2)"
      ],
      "metadata": {
        "colab": {
          "base_uri": "https://localhost:8080/"
        },
        "id": "_z0FokRzqN9v",
        "outputId": "56a6823b-f62e-4532-f887-4af0cf5912da"
      },
      "execution_count": null,
      "outputs": [
        {
          "output_type": "execute_result",
          "data": {
            "text/plain": [
              "147.6428571428571"
            ]
          },
          "metadata": {},
          "execution_count": 12
        }
      ]
    },
    {
      "cell_type": "code",
      "source": [
        "# Check what the stock will be worth in another year\n",
        "horizon['dividend'][1] / (1 + expected_return) + ((horizon['dividend'][2] + horizon['expected_price'][2]) / (1 + expected_return) ** 2)"
      ],
      "metadata": {
        "colab": {
          "base_uri": "https://localhost:8080/"
        },
        "id": "BbWmC5Fnqw9P",
        "outputId": "6e7bb935-0808-4204-b4a7-a67edb09575a"
      },
      "execution_count": null,
      "outputs": [
        {
          "output_type": "execute_result",
          "data": {
            "text/plain": [
              "74.99999999999999"
            ]
          },
          "metadata": {},
          "execution_count": 11
        }
      ]
    },
    {
      "cell_type": "code",
      "source": [
        "# Constant growth model\n",
        "dividend = 3\n",
        "growth = 0.08\n",
        "expected_return = 0.12\n",
        "dividend / (expected_return - growth)"
      ],
      "metadata": {
        "colab": {
          "base_uri": "https://localhost:8080/"
        },
        "id": "Jk-c9eq_rSNT",
        "outputId": "4d43e0e6-7514-4760-cdbd-68eda5746f7c"
      },
      "execution_count": null,
      "outputs": [
        {
          "output_type": "execute_result",
          "data": {
            "text/plain": [
              "75.00000000000001"
            ]
          },
          "metadata": {},
          "execution_count": 13
        }
      ]
    },
    {
      "cell_type": "code",
      "source": [
        "# Stocks with no dividend\n",
        "earning_per_share = 5.60\n",
        "expected_return = 0.12\n",
        "pe = 15\n",
        "\n",
        "earning_per_share * pe / (1 + expected_return)"
      ],
      "metadata": {
        "colab": {
          "base_uri": "https://localhost:8080/"
        },
        "id": "lkwZDkNprfzN",
        "outputId": "9050c16a-8410-4848-cbf3-ddd5914db5c6"
      },
      "execution_count": null,
      "outputs": [
        {
          "output_type": "execute_result",
          "data": {
            "text/plain": [
              "74.99999999999999"
            ]
          },
          "metadata": {},
          "execution_count": 15
        }
      ]
    },
    {
      "cell_type": "code",
      "source": [
        "# Actual earning what I get from that particular share\n",
        "earning_actual = 5.30\n",
        "earning_actual * 14 / ( 1 + expected_return)"
      ],
      "metadata": {
        "colab": {
          "base_uri": "https://localhost:8080/"
        },
        "id": "LDhEqOMbrf5l",
        "outputId": "a0fdaa23-ced6-4e95-f05b-ec3aa58c64bb"
      },
      "execution_count": null,
      "outputs": [
        {
          "output_type": "execute_result",
          "data": {
            "text/plain": [
              "66.25"
            ]
          },
          "metadata": {},
          "execution_count": 19
        }
      ]
    },
    {
      "cell_type": "markdown",
      "source": [
        "# **Lecture 5**\n",
        "# **Introduction to Monte Carlo Method and Building a Monte Carlo Simulation App**\n",
        "\n",
        "It is used to model the ***probability of different outcomes*** in a process that cannot easily be predicted due to the intervention of random variables.\n"
      ],
      "metadata": {
        "id": "OJahvscBsdzf"
      }
    },
    {
      "cell_type": "code",
      "source": [
        "present_value = 100000\n",
        "expected_return = 0.095\n",
        "time_horizon = 30\n",
        "ending_balance = 0"
      ],
      "metadata": {
        "id": "cTfYDTjHs7ec"
      },
      "execution_count": null,
      "outputs": []
    },
    {
      "cell_type": "code",
      "source": [
        "# Deterministic Method\n",
        "print(\"{:10s} {:15s}\".format(\"Year\", \"Ending Balance\"))\n",
        "print(\"-\" * 26)\n",
        "for year in range(1, time_horizon + 1):\n",
        "  ending_balance = present_value *  (1 + expected_return)\n",
        "  print(\"{:<10d} {:15,.0f}\".format(year, ending_balance))\n",
        "  present_value = ending_balance\n"
      ],
      "metadata": {
        "colab": {
          "base_uri": "https://localhost:8080/"
        },
        "id": "E2maeKjZsiT0",
        "outputId": "3d80e792-adf6-4054-c698-3558bae86692"
      },
      "execution_count": null,
      "outputs": [
        {
          "output_type": "stream",
          "name": "stdout",
          "text": [
            "Year       Ending Balance \n",
            "--------------------------\n",
            "1                  109,500\n",
            "2                  119,902\n",
            "3                  131,293\n",
            "4                  143,766\n",
            "5                  157,424\n",
            "6                  172,379\n",
            "7                  188,755\n",
            "8                  206,687\n",
            "9                  226,322\n",
            "10                 247,823\n",
            "11                 271,366\n",
            "12                 297,146\n",
            "13                 325,375\n",
            "14                 356,285\n",
            "15                 390,132\n",
            "16                 427,195\n",
            "17                 467,778\n",
            "18                 512,217\n",
            "19                 560,878\n",
            "20                 614,161\n",
            "21                 672,507\n",
            "22                 736,395\n",
            "23                 806,352\n",
            "24                 882,956\n",
            "25                 966,836\n",
            "26               1,058,686\n",
            "27               1,159,261\n",
            "28               1,269,391\n",
            "29               1,389,983\n",
            "30               1,522,031\n"
          ]
        }
      ]
    },
    {
      "cell_type": "code",
      "source": [
        "# We can't get 9.5% each year, thus we introduce some volataility\n",
        "# It depends on the inflation. As stated in the course, we have chosen 0.185/\n",
        "# We can choose any other value as well\n",
        "volatility = 0.185"
      ],
      "metadata": {
        "id": "Pu9Et_a0t73z"
      },
      "execution_count": null,
      "outputs": []
    },
    {
      "cell_type": "code",
      "source": [
        "import numpy.random as npr    # Just import random module\n",
        "\n",
        "present_value = 100000\n",
        "expected_return = 0.095\n",
        "time_horizon = 30\n",
        "ending_balance = 0\n",
        "\n",
        "print(\"{:10s} {:15s}\".format(\"Year\", \"Ending Balance\"))\n",
        "print(\"-\" * 26)\n",
        "for year in range(1, time_horizon + 1):\n",
        "  year_return = npr.normal(expected_return, volatility)\n",
        "  ending_balance = present_value *  (1 + year_return)\n",
        "  print(\"{:<10d} {:>15,.0f}\".format(year, ending_balance))\n",
        "  present_value = ending_balance"
      ],
      "metadata": {
        "colab": {
          "base_uri": "https://localhost:8080/"
        },
        "id": "6qE_FmlQuSQk",
        "outputId": "38b44c90-792f-48e0-9872-2d774d1f68ed"
      },
      "execution_count": null,
      "outputs": [
        {
          "output_type": "stream",
          "name": "stdout",
          "text": [
            "Year       Ending Balance \n",
            "--------------------------\n",
            "1                  119,869\n",
            "2                  138,562\n",
            "3                  135,433\n",
            "4                  170,122\n",
            "5                  202,062\n",
            "6                  172,754\n",
            "7                  193,375\n",
            "8                  194,488\n",
            "9                  190,420\n",
            "10                 166,620\n",
            "11                 149,284\n",
            "12                 203,167\n",
            "13                 205,553\n",
            "14                 185,283\n",
            "15                 237,203\n",
            "16                 294,603\n",
            "17                 305,512\n",
            "18                 382,807\n",
            "19                 385,509\n",
            "20                 362,599\n",
            "21                 410,535\n",
            "22                 533,237\n",
            "23                 648,911\n",
            "24                 848,463\n",
            "25               1,134,121\n",
            "26               1,284,538\n",
            "27               1,626,727\n",
            "28               1,887,141\n",
            "29               2,102,392\n",
            "30               2,242,899\n"
          ]
        }
      ]
    }
  ]
}